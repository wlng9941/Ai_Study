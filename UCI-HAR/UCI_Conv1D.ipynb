{
 "cells": [
  {
   "cell_type": "code",
   "execution_count": 1,
   "id": "b309e32c",
   "metadata": {},
   "outputs": [],
   "source": [
    "import numpy as np\n",
    "from numpy import mean\n",
    "from numpy import std\n",
    "from numpy import dstack\n",
    "from pandas import read_csv\n",
    "from matplotlib import pyplot\n",
    "from keras.utils.vis_utils import plot_model\n",
    "from sklearn.preprocessing import StandardScaler\n",
    "from keras.models import Sequential\n",
    "from keras.models import Model\n",
    "from keras.layers import Input\n",
    "from keras.layers import Dense\n",
    "from keras.layers import Flatten\n",
    "from keras.layers import Dropout\n",
    "from keras.layers.convolutional import Conv1D\n",
    "from keras.layers.convolutional import MaxPooling1D\n",
    "from keras.utils import to_categorical\n",
    "from keras.layers import concatenate"
   ]
  },
  {
   "cell_type": "code",
   "execution_count": 2,
   "id": "026e2bc4",
   "metadata": {},
   "outputs": [],
   "source": [
    "# load a single file as a numpy array\n",
    "def load_file(filepath):\n",
    "    dataframe = read_csv(filepath, header=None, delim_whitespace=True)\n",
    "    return dataframe.values"
   ]
  },
  {
   "cell_type": "code",
   "execution_count": 3,
   "id": "1cfe1ec6",
   "metadata": {},
   "outputs": [],
   "source": [
    "# load a list of files into a 3D array of [samples, timesteps, features]\n",
    "def load_group(filenames, prefix=''):\n",
    "    loaded = list()\n",
    "    for name in filenames:\n",
    "        data = load_file(prefix + name)\n",
    "        loaded.append(data)\n",
    "     # stack group so that features are the 3rd dimension\n",
    "    loaded = dstack(loaded)\n",
    "    return loaded"
   ]
  },
  {
   "cell_type": "code",
   "execution_count": 4,
   "id": "b75d5fb3",
   "metadata": {},
   "outputs": [],
   "source": [
    "# load a dataset group, such as train or test\n",
    "def load_dataset_group(group, prefix=''):\n",
    " filepath = prefix + group + '/Inertial Signals/'\n",
    " # load all 9 files as a single array\n",
    " filenames = list()\n",
    " # total acceleration\n",
    " filenames += ['total_acc_x_'+group+'.txt', 'total_acc_y_'+group+'.txt', 'total_acc_z_'+group+'.txt']\n",
    " # body acceleration\n",
    " filenames += ['body_acc_x_'+group+'.txt', 'body_acc_y_'+group+'.txt', 'body_acc_z_'+group+'.txt']\n",
    " # body gyroscope\n",
    " filenames += ['body_gyro_x_'+group+'.txt', 'body_gyro_y_'+group+'.txt', 'body_gyro_z_'+group+'.txt']\n",
    " # load input data\n",
    " X = load_group(filenames, filepath)\n",
    " # load class output\n",
    " y = load_file(prefix + group + '/y_'+group+'.txt')\n",
    " return X, y"
   ]
  },
  {
   "cell_type": "code",
   "execution_count": 5,
   "id": "e3ecce7d",
   "metadata": {},
   "outputs": [],
   "source": [
    "# load the dataset, returns train and test X and y elements\n",
    "def load_dataset(prefix=''):\n",
    "    # load all train\n",
    "    print('load_dataset append_before = {}'.format(prefix))\n",
    "    trainX, trainy = load_dataset_group('train', prefix + 'HARDataset/')\n",
    "    print(trainX.shape, trainy.shape)\n",
    "    # load all test\n",
    "    testX, testy = load_dataset_group('test', prefix + 'HARDataset/')\n",
    "    print(testX.shape, testy.shape)\n",
    "    # zero-offset class values\n",
    "    print('---------before(y)----------')\n",
    "    print(trainy.shape)\n",
    "    trainy = trainy - 1\n",
    "    testy = testy - 1\n",
    "    print('---------after(y)-----------')\n",
    "    print(trainy.shape)\n",
    "    # one hot encode y\n",
    "    trainy = to_categorical(trainy)\n",
    "    testy = to_categorical(testy)\n",
    "    print(trainX.shape, trainy.shape, testX.shape, testy.shape)\n",
    "    return trainX, trainy, testX, testy"
   ]
  },
  {
   "cell_type": "code",
   "execution_count": 6,
   "id": "7dabcd05",
   "metadata": {},
   "outputs": [],
   "source": [
    "# fit and evaluate a model\n",
    "def evaluate_model(trainX, trainy, testX, testy):\n",
    " verbose, epochs, batch_size = 0, 10, 32\n",
    " n_timesteps, n_features, n_outputs = trainX.shape[1], trainX.shape[2], trainy.shape[1]\n",
    " model = Sequential()\n",
    " model.add(Conv1D(filters=64, kernel_size=3, activation='relu', input_shape=(n_timesteps,n_features)))\n",
    " model.add(Conv1D(filters=64, kernel_size=3, activation='relu'))\n",
    " model.add(Dropout(0.5))\n",
    " model.add(MaxPooling1D(pool_size=2))\n",
    " model.add(Flatten())\n",
    " model.add(Dense(100, activation='relu'))\n",
    " model.add(Dense(n_outputs, activation='softmax'))\n",
    " model.compile(loss='categorical_crossentropy', optimizer='adam', metrics=['accuracy'])\n",
    " # fit network\n",
    " model.fit(trainX, trainy, epochs=epochs, batch_size=batch_size, verbose=verbose)\n",
    " # evaluate model\n",
    " _, accuracy = model.evaluate(testX, testy, batch_size=batch_size, verbose=0)\n",
    " return accuracy"
   ]
  },
  {
   "cell_type": "code",
   "execution_count": 7,
   "id": "922245c2",
   "metadata": {},
   "outputs": [],
   "source": [
    "# summarize scores\n",
    "def summarize_results(scores):\n",
    "    print(scores)\n",
    "    m, s = mean(scores), std(scores)\n",
    "    print('Accuracy: %.3f%% (+/-%.3f)' % (m, s))"
   ]
  },
  {
   "cell_type": "code",
   "execution_count": 8,
   "id": "81bc1a8a",
   "metadata": {},
   "outputs": [],
   "source": [
    "# run an experiment\n",
    "def run_experiment(repeats=10):\n",
    "    # load data\n",
    "    trainX, trainy, testX, testy = load_dataset()\n",
    "    # repeat experiment\n",
    "    scores = list()\n",
    "    for r in range(repeats):\n",
    "        score = evaluate_model(trainX, trainy, testX, testy)\n",
    "        score = score * 100.0\n",
    "        print('>#%d: %.3f' % (r+1, score))\n",
    "        scores.append(score)\n",
    "    # summarize results\n",
    "    summarize_results(scores)"
   ]
  },
  {
   "cell_type": "code",
   "execution_count": 65,
   "id": "eb3c2775",
   "metadata": {},
   "outputs": [
    {
     "name": "stdout",
     "output_type": "stream",
     "text": [
      "load_dataset append_before = \n",
      "(7352, 128, 9) (7352, 1)\n",
      "(2947, 128, 9) (2947, 1)\n",
      "---------before(y)----------\n",
      "(7352, 1)\n",
      "---------after(y)-----------\n",
      "(7352, 1)\n",
      "(7352, 128, 9) (7352, 6) (2947, 128, 9) (2947, 6)\n",
      ">#1: 89.617\n",
      ">#2: 91.347\n",
      ">#3: 86.359\n",
      ">#4: 92.671\n",
      ">#5: 89.922\n",
      ">#6: 89.990\n",
      ">#7: 92.433\n",
      ">#8: 90.465\n",
      ">#9: 89.990\n",
      ">#10: 89.684\n",
      "[89.61656093597412, 91.34713411331177, 86.35901212692261, 92.67051219940186, 89.92195725440979, 89.98982310295105, 92.43298172950745, 90.46487808227539, 89.98982310295105, 89.68442678451538]\n",
      "Accuracy: 90.248% (+/-1.673)\n"
     ]
    }
   ],
   "source": [
    "run_experiment()"
   ]
  },
  {
   "cell_type": "markdown",
   "id": "1beab698",
   "metadata": {},
   "source": [
    "# 데이터 표준화"
   ]
  },
  {
   "cell_type": "code",
   "execution_count": 69,
   "id": "2e48514d",
   "metadata": {},
   "outputs": [],
   "source": [
    "# plot a histogram of each variable in the dataset\n",
    "def plot_variable_distributions(trainX):\n",
    " # remove overlap\n",
    " cut = int(trainX.shape[1] / 2)\n",
    " longX = trainX[:, -cut:, :]\n",
    " # flatten windows\n",
    " longX = longX.reshape((longX.shape[0] * longX.shape[1], longX.shape[2]))\n",
    " print(longX.shape)\n",
    " pyplot.figure()\n",
    " xaxis = None\n",
    " for i in range(longX.shape[1]):\n",
    "     ax = pyplot.subplot(longX.shape[1], 1, i+1, sharex=xaxis)\n",
    "     ax.set_xlim(-1, 1)\n",
    "     if i == 0:\n",
    "         xaxis = ax\n",
    "     pyplot.hist(longX[:, i], bins=100)\n",
    " pyplot.show()"
   ]
  },
  {
   "cell_type": "code",
   "execution_count": 70,
   "id": "8fc24023",
   "metadata": {},
   "outputs": [
    {
     "name": "stdout",
     "output_type": "stream",
     "text": [
      "load_dataset append_before = \n",
      "(7352, 128, 9) (7352, 1)\n",
      "(2947, 128, 9) (2947, 1)\n",
      "---------before(y)----------\n",
      "(7352, 1)\n",
      "---------after(y)-----------\n",
      "(7352, 1)\n",
      "(7352, 128, 9) (7352, 6) (2947, 128, 9) (2947, 6)\n",
      "(470528, 9)\n"
     ]
    },
    {
     "data": {
      "image/png": "[encoded data removed]",
      "text/plain": [
       "<Figure size 640x480 with 9 Axes>"
      ]
     },
     "metadata": {},
     "output_type": "display_data"
    }
   ],
   "source": [
    "# load data\n",
    "trainX, trainy, testX, testy = load_dataset()\n",
    "# plot histograms\n",
    "plot_variable_distributions(trainX)"
   ]
  },
  {
   "cell_type": "code",
   "execution_count": 71,
   "id": "002e35e6",
   "metadata": {},
   "outputs": [],
   "source": [
    "# standardize data\n",
    "def scale_data(trainX, testX, standardize):\n",
    " # remove overlap\n",
    " cut = int(trainX.shape[1] / 2)\n",
    " longX = trainX[:, -cut:, :]\n",
    " # flatten windows\n",
    " longX = longX.reshape((longX.shape[0] * longX.shape[1], longX.shape[2]))\n",
    " # flatten train and test\n",
    " flatTrainX = trainX.reshape((trainX.shape[0] * trainX.shape[1], trainX.shape[2]))\n",
    " flatTestX = testX.reshape((testX.shape[0] * testX.shape[1], testX.shape[2]))\n",
    " # standardize\n",
    " if standardize:\n",
    "     s = StandardScaler()\n",
    "     # fit on training data\n",
    "     s.fit(longX)\n",
    "     # apply to training and test data\n",
    "     longX = s.transform(longX)\n",
    "     flatTrainX = s.transform(flatTrainX)\n",
    "     flatTestX = s.transform(flatTestX)\n",
    " # reshape\n",
    " flatTrainX = flatTrainX.reshape((trainX.shape))\n",
    " flatTestX = flatTestX.reshape((testX.shape))\n",
    " return flatTrainX, flatTestX"
   ]
  },
  {
   "cell_type": "code",
   "execution_count": 72,
   "id": "a76dbe90",
   "metadata": {},
   "outputs": [],
   "source": [
    "# fit and evaluate a model\n",
    "def evaluate_model(trainX, trainy, testX, testy, param):\n",
    " verbose, epochs, batch_size = 0, 10, 32\n",
    " n_timesteps, n_features, n_outputs = trainX.shape[1], trainX.shape[2], trainy.shape[1]\n",
    " # scale data\n",
    " trainX, testX = scale_data(trainX, testX, param)\n",
    " model = Sequential()\n",
    " model.add(Conv1D(filters=64, kernel_size=3, activation='relu', input_shape=(n_timesteps,n_features)))\n",
    " model.add(Conv1D(filters=64, kernel_size=3, activation='relu'))\n",
    " model.add(Dropout(0.5))\n",
    " model.add(MaxPooling1D(pool_size=2))\n",
    " model.add(Flatten())\n",
    " model.add(Dense(100, activation='relu'))\n",
    " model.add(Dense(n_outputs, activation='softmax'))\n",
    " model.compile(loss='categorical_crossentropy', optimizer='adam', metrics=['accuracy'])\n",
    " # fit network\n",
    " model.fit(trainX, trainy, epochs=epochs, batch_size=batch_size, verbose=verbose)\n",
    " # evaluate model\n",
    " _, accuracy = model.evaluate(testX, testy, batch_size=batch_size, verbose=0)\n",
    " return accuracy"
   ]
  },
  {
   "cell_type": "code",
   "execution_count": 81,
   "id": "8b58ad1b",
   "metadata": {},
   "outputs": [],
   "source": [
    "# summarize scores\n",
    "def summarize_results(scores, params):\n",
    " print(scores, params)\n",
    " # summarize mean and standard deviation\n",
    " for i in range(len(scores)):\n",
    "     m, s = mean(scores[i]), std(scores[i])\n",
    "     print('Param=%s: %.3f%% (+/-%.3f)' % (params[i], m, s))\n",
    " # boxplot of scores\n",
    " pyplot.boxplot(scores, labels=params)\n",
    " #pyplot.savefig('exp_cnn_standardize.png')"
   ]
  },
  {
   "cell_type": "code",
   "execution_count": 75,
   "id": "ddaa62b6",
   "metadata": {},
   "outputs": [],
   "source": []
  },
  {
   "cell_type": "code",
   "execution_count": 82,
   "id": "1da8da79",
   "metadata": {},
   "outputs": [],
   "source": [
    "# run an experiment\n",
    "def run_experiment(params, repeats=10):\n",
    " # load data\n",
    " trainX, trainy, testX, testy = load_dataset()\n",
    " # test each parameter\n",
    " all_scores = list()\n",
    " for p in params:\n",
    " # repeat experiment\n",
    "    scores = list()\n",
    "    for r in range(repeats):\n",
    "         score = evaluate_model(trainX, trainy, testX, testy, p)\n",
    "         score = score * 100.0\n",
    "         print('>p=%s #%d: %.3f' % (p, r+1, score))\n",
    "         scores.append(score)\n",
    "    all_scores.append(scores)\n",
    " # summarize results\n",
    " summarize_results(all_scores, params)"
   ]
  },
  {
   "cell_type": "code",
   "execution_count": 83,
   "id": "29bb883d",
   "metadata": {},
   "outputs": [
    {
     "name": "stdout",
     "output_type": "stream",
     "text": [
      "load_dataset append_before = \n",
      "(7352, 128, 9) (7352, 1)\n",
      "(2947, 128, 9) (2947, 1)\n",
      "---------before(y)----------\n",
      "(7352, 1)\n",
      "---------after(y)-----------\n",
      "(7352, 1)\n",
      "(7352, 128, 9) (7352, 6) (2947, 128, 9) (2947, 6)\n",
      ">p=False #1: 90.024\n",
      ">p=False #2: 90.804\n",
      ">p=False #3: 90.906\n",
      ">p=False #4: 90.159\n",
      ">p=False #5: 91.890\n",
      ">p=False #6: 91.042\n",
      ">p=False #7: 89.922\n",
      ">p=False #8: 91.958\n",
      ">p=False #9: 91.483\n",
      ">p=False #10: 89.786\n",
      ">p=True #1: 92.094\n",
      ">p=True #2: 92.263\n",
      ">p=True #3: 91.211\n",
      ">p=True #4: 91.449\n",
      ">p=True #5: 91.042\n",
      ">p=True #6: 87.106\n",
      ">p=True #7: 91.110\n",
      ">p=True #8: 89.922\n",
      ">p=True #9: 87.852\n",
      ">p=True #10: 91.449\n",
      "[[90.0237500667572, 90.80420732498169, 90.90600609779358, 90.15948176383972, 91.89005494117737, 91.0417377948761, 89.92195725440979, 91.95792078971863, 91.48286581039429, 89.78622555732727], [92.09365248680115, 92.2633171081543, 91.21140241622925, 91.44893288612366, 91.0417377948761, 87.10553050041199, 91.10960364341736, 89.92195725440979, 87.85205483436584, 91.44893288612366]] [False, True]\n",
      "Param=False: 90.797% (+/-0.767)\n",
      "Param=True: 90.550% (+/-1.657)\n"
     ]
    },
    {
     "data": {
      "image/png": "[encoded data removed]",
      "text/plain": [
       "<Figure size 640x480 with 1 Axes>"
      ]
     },
     "metadata": {},
     "output_type": "display_data"
    }
   ],
   "source": [
    "# run the experiment\n",
    "n_params = [False, True]\n",
    "run_experiment(n_params)"
   ]
  },
  {
   "cell_type": "markdown",
   "id": "93d580fe",
   "metadata": {},
   "source": [
    "# Number of Filters"
   ]
  },
  {
   "cell_type": "code",
   "execution_count": 9,
   "id": "f7f4f29e",
   "metadata": {},
   "outputs": [],
   "source": [
    "# fit and evaluate a model\n",
    "def evaluate_model(trainX, trainy, testX, testy, n_filters):\n",
    " verbose, epochs, batch_size = 0, 10, 32\n",
    " n_timesteps, n_features, n_outputs = trainX.shape[1], trainX.shape[2], trainy.shape[1]\n",
    " model = Sequential()\n",
    " model.add(Conv1D(filters=n_filters, kernel_size=3, activation='relu', input_shape=(n_timesteps,n_features)))\n",
    " model.add(Conv1D(filters=n_filters, kernel_size=3, activation='relu'))\n",
    " model.add(Dropout(0.5))\n",
    " model.add(MaxPooling1D(pool_size=2))\n",
    " model.add(Flatten())\n",
    " model.add(Dense(100, activation='relu'))\n",
    " model.add(Dense(n_outputs, activation='softmax'))\n",
    " model.compile(loss='categorical_crossentropy', optimizer='adam', metrics=['accuracy'])\n",
    " # fit network\n",
    " model.fit(trainX, trainy, epochs=epochs, batch_size=batch_size, verbose=verbose)\n",
    " # evaluate model\n",
    " _, accuracy = model.evaluate(testX, testy, batch_size=batch_size, verbose=0)\n",
    " return accuracy"
   ]
  },
  {
   "cell_type": "code",
   "execution_count": 10,
   "id": "1acb28e0",
   "metadata": {},
   "outputs": [],
   "source": [
    "# summarize scores\n",
    "def summarize_results(scores, params):\n",
    " print(scores, params)\n",
    " # summarize mean and standard deviation\n",
    " for i in range(len(scores)):\n",
    "     m, s = mean(scores[i]), std(scores[i])\n",
    "     print('Param=%d: %.3f%% (+/-%.3f)' % (params[i], m, s))\n",
    " # boxplot of scores\n",
    " pyplot.boxplot(scores, labels=params)\n",
    " #pyplot.savefig('exp_cnn_filters.png')"
   ]
  },
  {
   "cell_type": "code",
   "execution_count": 11,
   "id": "f9c5ee14",
   "metadata": {},
   "outputs": [],
   "source": [
    "# run an experiment\n",
    "def run_experiment(params, repeats=10):\n",
    " # load data\n",
    " trainX, trainy, testX, testy = load_dataset()\n",
    " # test each parameter\n",
    " all_scores = list()\n",
    " for p in params:\n",
    "     # repeat experiment\n",
    "     scores = list()\n",
    "     for r in range(repeats):\n",
    "         score = evaluate_model(trainX, trainy, testX, testy, p)\n",
    "         score = score * 100.0\n",
    "         print('>p=%d #%d: %.3f' % (p, r+1, score))\n",
    "         scores.append(score)\n",
    "     all_scores.append(scores)\n",
    " # summarize results\n",
    " summarize_results(all_scores, params)"
   ]
  },
  {
   "cell_type": "code",
   "execution_count": 12,
   "id": "9000c298",
   "metadata": {},
   "outputs": [
    {
     "name": "stdout",
     "output_type": "stream",
     "text": [
      "load_dataset append_before = \n",
      "(7352, 128, 9) (7352, 1)\n",
      "(2947, 128, 9) (2947, 1)\n",
      "---------before(y)----------\n",
      "(7352, 1)\n",
      "---------after(y)-----------\n",
      "(7352, 1)\n",
      "(7352, 128, 9) (7352, 6) (2947, 128, 9) (2947, 6)\n",
      ">p=8 #1: 89.515\n",
      ">p=8 #2: 89.922\n",
      ">p=8 #3: 90.363\n",
      ">p=8 #4: 88.768\n",
      ">p=8 #5: 88.633\n",
      ">p=8 #6: 90.193\n",
      ">p=8 #7: 87.750\n",
      ">p=8 #8: 89.413\n",
      ">p=8 #9: 88.938\n",
      ">p=8 #10: 88.734\n",
      ">p=16 #1: 89.413\n",
      ">p=16 #2: 90.295\n",
      ">p=16 #3: 90.431\n",
      ">p=16 #4: 91.211\n",
      ">p=16 #5: 87.886\n",
      ">p=16 #6: 89.718\n",
      ">p=16 #7: 90.465\n",
      ">p=16 #8: 88.633\n",
      ">p=16 #9: 89.956\n",
      ">p=16 #10: 90.058\n",
      ">p=32 #1: 90.567\n",
      ">p=32 #2: 91.483\n",
      ">p=32 #3: 90.635\n",
      ">p=32 #4: 89.583\n",
      ">p=32 #5: 90.024\n",
      ">p=32 #6: 89.006\n",
      ">p=32 #7: 89.209\n",
      ">p=32 #8: 90.872\n",
      ">p=32 #9: 89.379\n",
      ">p=32 #10: 89.447\n",
      ">p=64 #1: 90.024\n",
      ">p=64 #2: 90.465\n",
      ">p=64 #3: 91.686\n",
      ">p=64 #4: 89.345\n",
      ">p=64 #5: 92.060\n",
      ">p=64 #6: 89.413\n",
      ">p=64 #7: 90.872\n",
      ">p=64 #8: 88.972\n",
      ">p=64 #9: 90.702\n",
      ">p=64 #10: 89.752\n",
      ">p=128 #1: 90.770\n",
      ">p=128 #2: 89.006\n",
      ">p=128 #3: 90.092\n",
      ">p=128 #4: 90.193\n",
      ">p=128 #5: 89.820\n",
      ">p=128 #6: 90.872\n",
      ">p=128 #7: 90.906\n",
      ">p=128 #8: 91.958\n",
      ">p=128 #9: 90.601\n",
      ">p=128 #10: 90.431\n",
      ">p=256 #1: 91.211\n",
      ">p=256 #2: 91.211\n",
      ">p=256 #3: 88.225\n",
      ">p=256 #4: 91.008\n",
      ">p=256 #5: 91.890\n",
      ">p=256 #6: 92.026\n",
      ">p=256 #7: 90.431\n",
      ">p=256 #8: 91.110\n",
      ">p=256 #9: 92.026\n",
      ">p=256 #10: 91.144\n",
      "[[89.51476216316223, 89.92195725440979, 90.3630793094635, 88.76823782920837, 88.63250613212585, 90.19341468811035, 87.75025606155396, 89.41296339035034, 88.93790245056152, 88.73430490493774], [89.41296339035034, 90.29521346092224, 90.43094515800476, 91.21140241622925, 87.88598775863647, 89.71835970878601, 90.46487808227539, 88.63250613212585, 89.95589017868042, 90.05768299102783], [90.56667685508728, 91.48286581039429, 90.63454270362854, 89.58262801170349, 90.0237500667572, 89.00576829910278, 89.20936584472656, 90.87207317352295, 89.37903046607971, 89.44689631462097], [90.0237500667572, 90.46487808227539, 91.68646335601807, 89.34509754180908, 92.05971956253052, 89.41296339035034, 90.87207317352295, 88.97183537483215, 90.7024085521698, 89.75229263305664], [90.77027440071106, 89.00576829910278, 90.09161591529846, 90.19341468811035, 89.8201584815979, 90.87207317352295, 90.90600609779358, 91.95792078971863, 90.60060977935791, 90.43094515800476], [91.21140241622925, 91.21140241622925, 88.2253110408783, 91.00780487060547, 91.89005494117737, 92.02578663825989, 90.43094515800476, 91.10960364341736, 92.02578663825989, 91.14353656768799]] [8, 16, 32, 64, 128, 256]\n",
      "Param=8: 89.223% (+/-0.768)\n",
      "Param=16: 89.807% (+/-0.914)\n",
      "Param=32: 90.020% (+/-0.785)\n",
      "Param=64: 90.329% (+/-0.968)\n",
      "Param=128: 90.465% (+/-0.739)\n",
      "Param=256: 91.028% (+/-1.050)\n"
     ]
    },
    {
     "data": {
      "image/png": "[encoded data removed]",
      "text/plain": [
       "<Figure size 640x480 with 1 Axes>"
      ]
     },
     "metadata": {},
     "output_type": "display_data"
    }
   ],
   "source": [
    "# run the experiment\n",
    "n_params = [8, 16, 32, 64, 128, 256]\n",
    "run_experiment(n_params)"
   ]
  },
  {
   "cell_type": "markdown",
   "id": "8ed6145e",
   "metadata": {},
   "source": [
    "# Size of kernel"
   ]
  },
  {
   "cell_type": "code",
   "execution_count": 85,
   "id": "dae793f8",
   "metadata": {},
   "outputs": [],
   "source": [
    "# fit and evaluate a model\n",
    "def evaluate_model(trainX, trainy, testX, testy, n_kernel):\n",
    " verbose, epochs, batch_size = 0, 15, 32\n",
    " n_timesteps, n_features, n_outputs = trainX.shape[1], trainX.shape[2], trainy.shape[1]\n",
    " model = Sequential()\n",
    " model.add(Conv1D(filters=64, kernel_size=n_kernel, activation='relu', input_shape=(n_timesteps,n_features)))\n",
    " model.add(Conv1D(filters=64, kernel_size=n_kernel, activation='relu'))\n",
    " model.add(Dropout(0.5))\n",
    " model.add(MaxPooling1D(pool_size=2))\n",
    " model.add(Flatten())\n",
    " model.add(Dense(100, activation='relu'))\n",
    " model.add(Dense(n_outputs, activation='softmax'))\n",
    " model.compile(loss='categorical_crossentropy', optimizer='adam', metrics=['accuracy'])\n",
    " # fit network\n",
    " model.fit(trainX, trainy, epochs=epochs, batch_size=batch_size, verbose=verbose)\n",
    " # evaluate model\n",
    " _, accuracy = model.evaluate(testX, testy, batch_size=batch_size, verbose=0)\n",
    " return accuracy"
   ]
  },
  {
   "cell_type": "code",
   "execution_count": 86,
   "id": "b3b93c2a",
   "metadata": {},
   "outputs": [],
   "source": [
    "# summarize scores\n",
    "def summarize_results(scores, params):\n",
    " print(scores, params)\n",
    " # summarize mean and standard deviation\n",
    " for i in range(len(scores)):\n",
    "     m, s = mean(scores[i]), std(scores[i])\n",
    "     print('Param=%d: %.3f%% (+/-%.3f)' % (params[i], m, s))\n",
    " # boxplot of scores\n",
    " pyplot.boxplot(scores, labels=params)\n",
    " #pyplot.savefig('exp_cnn_kernel.png')"
   ]
  },
  {
   "cell_type": "code",
   "execution_count": 87,
   "id": "0a805aa0",
   "metadata": {},
   "outputs": [],
   "source": [
    "# run an experiment\n",
    "def run_experiment(params, repeats=10):\n",
    " # load data\n",
    " trainX, trainy, testX, testy = load_dataset()\n",
    " # test each parameter\n",
    " all_scores = list()\n",
    " for p in params:\n",
    " # repeat experiment\n",
    "     scores = list()\n",
    "     for r in range(repeats):\n",
    "         score = evaluate_model(trainX, trainy, testX, testy, p)\n",
    "         score = score * 100.0\n",
    "         print('>p=%d #%d: %.3f' % (p, r+1, score))\n",
    "         scores.append(score)\n",
    "     all_scores.append(scores)\n",
    " # summarize results\n",
    " summarize_results(all_scores, params)"
   ]
  },
  {
   "cell_type": "code",
   "execution_count": 88,
   "id": "0128da4b",
   "metadata": {},
   "outputs": [
    {
     "name": "stdout",
     "output_type": "stream",
     "text": [
      "load_dataset append_before = \n",
      "(7352, 128, 9) (7352, 1)\n",
      "(2947, 128, 9) (2947, 1)\n",
      "---------before(y)----------\n",
      "(7352, 1)\n",
      "---------after(y)-----------\n",
      "(7352, 1)\n",
      "(7352, 128, 9) (7352, 6) (2947, 128, 9) (2947, 6)\n",
      ">p=2 #1: 89.583\n",
      ">p=2 #2: 91.076\n",
      ">p=2 #3: 89.311\n",
      ">p=2 #4: 89.345\n",
      ">p=2 #5: 90.872\n",
      ">p=2 #6: 89.990\n",
      ">p=2 #7: 90.601\n",
      ">p=2 #8: 88.700\n",
      ">p=2 #9: 90.974\n",
      ">p=2 #10: 87.106\n",
      ">p=3 #1: 89.515\n",
      ">p=3 #2: 88.565\n",
      ">p=3 #3: 90.363\n",
      ">p=3 #4: 90.872\n",
      ">p=3 #5: 91.245\n",
      ">p=3 #6: 90.058\n",
      ">p=3 #7: 89.956\n",
      ">p=3 #8: 91.144\n",
      ">p=3 #9: 89.379\n",
      ">p=3 #10: 89.718\n",
      ">p=5 #1: 92.094\n",
      ">p=5 #2: 92.060\n",
      ">p=5 #3: 92.603\n",
      ">p=5 #4: 91.686\n",
      ">p=5 #5: 91.245\n",
      ">p=5 #6: 90.295\n",
      ">p=5 #7: 90.940\n",
      ">p=5 #8: 91.890\n",
      ">p=5 #9: 91.720\n",
      ">p=5 #10: 91.381\n",
      ">p=7 #1: 90.668\n",
      ">p=7 #2: 91.653\n",
      ">p=7 #3: 91.415\n",
      ">p=7 #4: 90.974\n",
      ">p=7 #5: 92.094\n",
      ">p=7 #6: 91.619\n",
      ">p=7 #7: 89.854\n",
      ">p=7 #8: 92.501\n",
      ">p=7 #9: 93.213\n",
      ">p=7 #10: 91.245\n",
      ">p=11 #1: 92.263\n",
      ">p=11 #2: 91.992\n",
      ">p=11 #3: 90.940\n",
      ">p=11 #4: 94.774\n",
      ">p=11 #5: 89.820\n",
      ">p=11 #6: 89.243\n",
      ">p=11 #7: 92.501\n",
      ">p=11 #8: 91.008\n",
      ">p=11 #9: 93.112\n",
      ">p=11 #10: 92.365\n",
      "[[89.58262801170349, 91.07567071914673, 89.31116461753845, 89.34509754180908, 90.87207317352295, 89.98982310295105, 90.60060977935791, 88.70037198066711, 90.97387194633484, 87.10553050041199], [89.51476216316223, 88.5646402835846, 90.3630793094635, 90.87207317352295, 91.24533534049988, 90.05768299102783, 89.95589017868042, 91.14353656768799, 89.37903046607971, 89.71835970878601], [92.09365248680115, 92.05971956253052, 92.6026463508606, 91.68646335601807, 91.24533534049988, 90.29521346092224, 90.93993902206421, 91.89005494117737, 91.7203962802887, 91.3810670375824], [90.66847562789917, 91.65253043174744, 91.41499996185303, 90.97387194633484, 92.09365248680115, 91.6185975074768, 89.85409140586853, 92.5008475780487, 93.21343898773193, 91.24533534049988], [92.2633171081543, 91.99185371398926, 90.93993902206421, 94.77434754371643, 89.8201584815979, 89.24329876899719, 92.5008475780487, 91.00780487060547, 93.11164021492004, 92.36511588096619]] [2, 3, 5, 7, 11]\n",
      "Param=2: 89.756% (+/-1.174)\n",
      "Param=3: 90.081% (+/-0.803)\n",
      "Param=5: 91.591% (+/-0.623)\n",
      "Param=7: 91.524% (+/-0.898)\n",
      "Param=11: 91.802% (+/-1.531)\n"
     ]
    },
    {
     "data": {
      "image/png": "[encoded data removed]",
      "text/plain": [
       "<Figure size 640x480 with 1 Axes>"
      ]
     },
     "metadata": {},
     "output_type": "display_data"
    }
   ],
   "source": [
    "# run the experiment\n",
    "n_params = [2, 3, 5, 7, 11]\n",
    "run_experiment(n_params)"
   ]
  },
  {
   "cell_type": "markdown",
   "id": "4ae42ab9",
   "metadata": {},
   "source": [
    "# Multi-Headed Convolutional Neural Network"
   ]
  },
  {
   "cell_type": "code",
   "execution_count": 6,
   "id": "442f6baf",
   "metadata": {},
   "outputs": [],
   "source": [
    "# fit and evaluate a model\n",
    "def evaluate_model(trainX, trainy, testX, testy):\n",
    " verbose, epochs, batch_size = 0, 10, 32\n",
    " n_timesteps, n_features, n_outputs = trainX.shape[1], trainX.shape[2], trainy.shape[1]\n",
    " # head 1\n",
    " inputs1 = Input(shape=(n_timesteps,n_features))\n",
    " conv1 = Conv1D(filters=64, kernel_size=3, activation='relu')(inputs1)\n",
    " drop1 = Dropout(0.5)(conv1)\n",
    " pool1 = MaxPooling1D(pool_size=2)(drop1)\n",
    " flat1 = Flatten()(pool1)\n",
    " # head 2\n",
    " inputs2 = Input(shape=(n_timesteps,n_features))\n",
    " conv2 = Conv1D(filters=64, kernel_size=5, activation='relu')(inputs2)\n",
    " drop2 = Dropout(0.5)(conv2)\n",
    " pool2 = MaxPooling1D(pool_size=2)(drop2)\n",
    " flat2 = Flatten()(pool2)\n",
    " # head 3\n",
    " inputs3 = Input(shape=(n_timesteps,n_features))\n",
    " conv3 = Conv1D(filters=64, kernel_size=11, activation='relu')(inputs3)\n",
    " drop3 = Dropout(0.5)(conv3)\n",
    " pool3 = MaxPooling1D(pool_size=2)(drop3)\n",
    " flat3 = Flatten()(pool3)\n",
    " # merge\n",
    " merged = concatenate([flat1, flat2, flat3])\n",
    " # interpretation\n",
    " dense1 = Dense(100, activation='relu')(merged)\n",
    " outputs = Dense(n_outputs, activation='softmax')(dense1)\n",
    " model = Model(inputs=[inputs1, inputs2, inputs3], outputs=outputs)\n",
    " # save a plot of the model\n",
    " #plot_model(model, show_shapes=True, to_file='multichannel.png')\n",
    " plot_model(model, show_shapes=True)\n",
    " model.compile(loss='categorical_crossentropy', optimizer='adam', metrics=['accuracy'])\n",
    " # fit network\n",
    " model.fit([trainX,trainX,trainX], trainy, epochs=epochs, batch_size=batch_size, verbose=verbose)\n",
    " # evaluate model\n",
    " _, accuracy = model.evaluate([testX,testX,testX], testy, batch_size=batch_size, verbose=0)\n",
    " return accuracy"
   ]
  },
  {
   "cell_type": "code",
   "execution_count": 7,
   "id": "e09211b5",
   "metadata": {},
   "outputs": [],
   "source": [
    "# summarize scores\n",
    "def summarize_results(scores):\n",
    " print(scores)\n",
    " m, s = mean(scores), std(scores)\n",
    " print('Accuracy: %.3f%% (+/-%.3f)' % (m, s))"
   ]
  },
  {
   "cell_type": "code",
   "execution_count": 8,
   "id": "a7035a37",
   "metadata": {},
   "outputs": [],
   "source": [
    "# run an experiment\n",
    "def run_experiment(repeats=10):\n",
    " # load data\n",
    " trainX, trainy, testX, testy = load_dataset()\n",
    " # repeat experiment\n",
    " scores = list()\n",
    " for r in range(repeats):\n",
    "     score = evaluate_model(trainX, trainy, testX, testy)\n",
    "     score = score * 100.0\n",
    "     print('>#%d: %.3f' % (r+1, score))\n",
    "     scores.append(score)\n",
    " # summarize results\n",
    " summarize_results(scores)"
   ]
  },
  {
   "cell_type": "code",
   "execution_count": 9,
   "id": "38caf507",
   "metadata": {},
   "outputs": [
    {
     "name": "stdout",
     "output_type": "stream",
     "text": [
      "load_dataset append_before = \n",
      "(7352, 128, 9) (7352, 1)\n",
      "(2947, 128, 9) (2947, 1)\n",
      "---------before(y)----------\n",
      "(7352, 1)\n",
      "---------after(y)-----------\n",
      "(7352, 1)\n",
      "(7352, 128, 9) (7352, 6) (2947, 128, 9) (2947, 6)\n",
      ">#1: 91.517\n",
      ">#2: 92.637\n",
      ">#3: 92.162\n",
      ">#4: 92.162\n",
      ">#5: 91.211\n",
      ">#6: 91.653\n",
      ">#7: 92.976\n",
      ">#8: 90.770\n",
      ">#9: 92.874\n",
      ">#10: 92.501\n",
      "[91.51679873466492, 92.63657927513123, 92.16151833534241, 92.16151833534241, 91.21140241622925, 91.65253043174744, 92.97590851783752, 90.77027440071106, 92.87410974502563, 92.5008475780487]\n",
      "Accuracy: 92.046% (+/-0.699)\n"
     ]
    }
   ],
   "source": [
    "# run the experiment\n",
    "run_experiment()"
   ]
  },
  {
   "cell_type": "code",
   "execution_count": null,
   "id": "3ac9ba8c",
   "metadata": {},
   "outputs": [],
   "source": []
  },
  {
   "cell_type": "code",
   "execution_count": null,
   "id": "dbe91a2a",
   "metadata": {},
   "outputs": [],
   "source": []
  },
  {
   "cell_type": "code",
   "execution_count": null,
   "id": "1a45df86",
   "metadata": {},
   "outputs": [],
   "source": []
  },
  {
   "cell_type": "code",
   "execution_count": 9,
   "id": "da6f6b39",
   "metadata": {},
   "outputs": [
    {
     "name": "stdout",
     "output_type": "stream",
     "text": [
      "load_dataset append_before = \n",
      "(7352, 128, 9) (7352, 1)\n",
      "(2947, 128, 9) (2947, 1)\n",
      "---------before(y)----------\n",
      "(7352, 1)\n",
      "---------after(y)-----------\n",
      "(7352, 1)\n",
      "(7352, 128, 9) (7352, 6) (2947, 128, 9) (2947, 6)\n"
     ]
    }
   ],
   "source": [
    "trainX, trainy, testX, testy = load_dataset()"
   ]
  },
  {
   "cell_type": "code",
   "execution_count": 15,
   "id": "c3a7717f",
   "metadata": {},
   "outputs": [],
   "source": [
    "filenames = list()\n",
    " # total acceleration\n",
    "group = 'train'\n",
    "filenames += ['total_acc_x_'+group+'.txt', 'total_acc_y_'+group+'.txt', 'total_acc_z_'+group+'.txt']\n",
    " # body acceleration\n",
    "filenames += ['body_acc_x_'+group+'.txt', 'body_acc_y_'+group+'.txt', 'body_acc_z_'+group+'.txt']\n",
    " # body gyroscope\n",
    "filenames += ['body_gyro_x_'+group+'.txt', 'body_gyro_y_'+group+'.txt', 'body_gyro_z_'+group+'.txt']\n",
    "prefix = 'HARDataset/train/Inertial Signals/'\n",
    "loaded = list()\n",
    "for name in filenames:\n",
    "    data = load_file(prefix + name)\n",
    "    loaded.append(data)\n",
    "    np.array(loaded)\n",
    "     # stack group so that features are the 3rd dimension"
   ]
  },
  {
   "cell_type": "code",
   "execution_count": 16,
   "id": "7ddddfa0",
   "metadata": {},
   "outputs": [
    {
     "data": {
      "text/plain": [
       "(9, 7352, 128)"
      ]
     },
     "execution_count": 16,
     "metadata": {},
     "output_type": "execute_result"
    }
   ],
   "source": [
    "loaded1 = np.array(loaded)\n",
    "loaded1.shape"
   ]
  },
  {
   "cell_type": "code",
   "execution_count": 17,
   "id": "30116606",
   "metadata": {},
   "outputs": [],
   "source": [
    "#loaded는 9, 128개씩 7352개의 데이터"
   ]
  },
  {
   "cell_type": "code",
   "execution_count": 18,
   "id": "a5411212",
   "metadata": {
    "scrolled": true
   },
   "outputs": [
    {
     "data": {
      "text/plain": [
       "array([ 1.076681e-02,  6.579480e-03,  8.928878e-03,  7.488683e-03,\n",
       "        6.140966e-03,  6.944317e-03,  3.552423e-03,  2.537128e-03,\n",
       "        4.084532e-03,  5.118448e-03,  5.892268e-03,  7.249871e-03,\n",
       "        9.790774e-03,  7.661138e-03,  5.189360e-03,  6.823079e-03,\n",
       "        5.606931e-03,  4.729647e-03,  4.183207e-03,  7.066339e-04,\n",
       "       -4.544368e-04, -2.410674e-04, -5.438688e-04, -9.499844e-04,\n",
       "       -1.421207e-03, -1.361999e-03, -2.328840e-03, -3.931010e-03,\n",
       "       -4.676219e-03, -1.352050e-03,  2.857771e-03, -8.045508e-04,\n",
       "       -5.447914e-03, -4.810002e-03, -4.869238e-03, -4.080336e-03,\n",
       "       -6.791119e-04,  1.696425e-03,  2.687273e-03,  3.054424e-03,\n",
       "        3.114898e-03,  2.052629e-03,  1.515292e-03,  2.070830e-03,\n",
       "       -6.266231e-04, -4.514772e-03, -5.925923e-03, -5.062805e-03,\n",
       "       -2.244477e-03, -7.860878e-04, -1.218282e-03, -1.676407e-03,\n",
       "       -2.273432e-03, -4.803613e-03, -8.823154e-03, -8.774635e-03,\n",
       "       -7.305396e-03, -8.229220e-03, -8.141506e-03, -7.250328e-03,\n",
       "       -5.531581e-03, -4.444861e-03, -3.666564e-03, -2.290946e-03,\n",
       "       -4.687588e-03, -7.487894e-03, -8.429991e-03, -7.257599e-03,\n",
       "       -4.190853e-03, -5.425981e-03, -4.753452e-03, -1.927498e-04,\n",
       "        4.452348e-04, -4.410139e-04, -1.514938e-03, -2.419472e-03,\n",
       "       -6.548840e-03, -1.261049e-02, -8.526039e-03, -1.836966e-03,\n",
       "       -1.594163e-03, -8.662852e-04, -1.725971e-04, -4.302846e-04,\n",
       "       -6.122020e-04, -2.986203e-03, -4.768586e-03, -3.324209e-03,\n",
       "       -1.192537e-03, -2.341803e-03, -6.116693e-03, -9.001041e-03,\n",
       "       -9.958193e-03, -8.580468e-03, -6.259511e-03, -2.305442e-03,\n",
       "        1.958977e-03,  3.222457e-04, -4.128232e-03, -6.242957e-03,\n",
       "       -4.297268e-03,  4.152381e-04,  3.754066e-04, -1.618403e-03,\n",
       "       -1.817927e-03, -3.620557e-03, -5.030822e-03, -6.879768e-03,\n",
       "       -7.551414e-03, -7.095538e-03, -9.193416e-03, -5.811485e-03,\n",
       "       -1.100333e-03, -3.513449e-03, -3.724755e-03, -2.230556e-03,\n",
       "       -3.286977e-03, -2.275556e-03,  1.717125e-04,  1.755540e-03,\n",
       "       -7.590393e-05, -4.052565e-03, -4.295350e-03, -2.928965e-03,\n",
       "       -2.023084e-03,  1.714439e-04,  1.574181e-03,  3.070189e-03])"
      ]
     },
     "execution_count": 18,
     "metadata": {},
     "output_type": "execute_result"
    }
   ],
   "source": [
    "loaded[4][0]"
   ]
  }
 ],
 "metadata": {
  "kernelspec": {
   "display_name": "Python 3 (ipykernel)",
   "language": "python",
   "name": "python3"
  },
  "language_info": {
   "codemirror_mode": {
    "name": "ipython",
    "version": 3
   },
   "file_extension": ".py",
   "mimetype": "text/x-python",
   "name": "python",
   "nbconvert_exporter": "python",
   "pygments_lexer": "ipython3",
   "version": "3.9.16"
  }
 },
 "nbformat": 4,
 "nbformat_minor": 5
}
