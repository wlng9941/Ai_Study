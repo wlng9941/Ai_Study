{
 "cells": [
  {
   "cell_type": "code",
   "execution_count": 29,
   "id": "ba873c62",
   "metadata": {},
   "outputs": [],
   "source": [
    "# cnn model\n",
    "from numpy import mean\n",
    "from numpy import std\n",
    "from numpy import dstack\n",
    "from pandas import read_csv\n",
    "from matplotlib import pyplot as plt\n",
    "from keras.models import Sequential\n",
    "from keras.layers import Dense\n",
    "from keras.layers import Flatten\n",
    "from keras.layers import Dropout\n",
    "from keras.layers.convolutional import Conv1D\n",
    "from keras.layers.convolutional import Conv2D\n",
    "from keras.layers.convolutional import MaxPooling1D\n",
    "from keras.utils import to_categorical"
   ]
  },
  {
   "cell_type": "code",
   "execution_count": 2,
   "id": "237485f3",
   "metadata": {},
   "outputs": [],
   "source": [
    "# load a single file as a numpy array\n",
    "def load_file(filepath):\n",
    " dataframe = read_csv(filepath, header=None, delim_whitespace=True)\n",
    " return dataframe.values"
   ]
  },
  {
   "cell_type": "code",
   "execution_count": 3,
   "id": "926e8b3b",
   "metadata": {},
   "outputs": [],
   "source": [
    "# load a list of files and return as a 3d numpy array\n",
    "def load_group(filenames, prefix=''):\n",
    " loaded = list()\n",
    " for name in filenames:\n",
    "  data = load_file(prefix + name)\n",
    "  loaded.append(data)\n",
    " #print('------before_dstack------')   \n",
    " #print(loaded) \n",
    " # stack group so that features are the 3rd dimension\n",
    " loaded = dstack(loaded)\n",
    " #print('------after_dstack------')\n",
    " #print(loaded)\n",
    " return loaded"
   ]
  },
  {
   "cell_type": "code",
   "execution_count": 4,
   "id": "c5a98554",
   "metadata": {},
   "outputs": [],
   "source": [
    "# load a dataset group, such as train or test\n",
    "def load_dataset_group(group, prefix=''):\n",
    " filepath = prefix + group + '/Inertial Signals/'\n",
    " # load all 9 files as a single array\n",
    " filenames = list()\n",
    " # total acceleration\n",
    " filenames += ['total_acc_x_'+group+'.txt', 'total_acc_y_'+group+'.txt', 'total_acc_z_'+group+'.txt']\n",
    " # body acceleration\n",
    " filenames += ['body_acc_x_'+group+'.txt', 'body_acc_y_'+group+'.txt', 'body_acc_z_'+group+'.txt']\n",
    " # body gyroscope\n",
    " filenames += ['body_gyro_x_'+group+'.txt', 'body_gyro_y_'+group+'.txt', 'body_gyro_z_'+group+'.txt']\n",
    " # load input data\n",
    " X = load_group(filenames, filepath)\n",
    " # load class output\n",
    " y = load_file(prefix + group + '/y_'+group+'.txt')\n",
    " return X, y"
   ]
  },
  {
   "cell_type": "code",
   "execution_count": 5,
   "id": "0d577288",
   "metadata": {},
   "outputs": [],
   "source": [
    "#load the dataset, returns train and test X and y elements\n",
    "def load_dataset(prefix=''):\n",
    " # load all train\n",
    " trainX, trainy = load_dataset_group('train', prefix + 'HARDataset/')\n",
    " print(trainX.shape, trainy.shape)\n",
    " # load all test\n",
    " testX, testy = load_dataset_group('test', prefix + 'HARDataset/')\n",
    " print(testX.shape, testy.shape)\n",
    " # zero-offset class values ------?\n",
    " trainy = trainy - 1\n",
    " testy = testy - 1\n",
    " # one hot encode y -------?\n",
    " trainy = to_categorical(trainy)\n",
    " testy = to_categorical(testy)\n",
    " print(trainX.shape, trainy.shape, testX.shape, testy.shape)\n",
    " return trainX, trainy, testX, testy"
   ]
  },
  {
   "cell_type": "code",
   "execution_count": 6,
   "id": "88c0004f",
   "metadata": {},
   "outputs": [],
   "source": [
    "# fit and evaluate a model\n",
    "def evaluate_model_C1D2(trainX, trainy, testX, testy):\n",
    " verbose, epochs, batch_size = 0, 10, 32\n",
    " n_timesteps, n_features, n_outputs = trainX.shape[1], trainX.shape[2], trainy.shape[1]\n",
    " model = Sequential()\n",
    " model.add(Conv1D(filters=64, kernel_size=3, activation='relu', input_shape=(n_timesteps,n_features)))\n",
    " model.add(MaxPooling1D(pool_size=2))\n",
    " model.add(Flatten())\n",
    " model.add(Dense(100, activation='relu'))\n",
    " model.add(Dense(n_outputs, activation='softmax'))\n",
    " model.compile(loss='categorical_crossentropy', optimizer='adam', metrics=['accuracy'])\n",
    " # fit network\n",
    " model.fit(trainX, trainy, epochs=epochs, batch_size=batch_size, verbose=verbose)\n",
    " # evaluate model\n",
    " _, accuracy = model.evaluate(testX, testy, batch_size=batch_size, verbose=0)\n",
    " return accuracy"
   ]
  },
  {
   "cell_type": "code",
   "execution_count": 7,
   "id": "75243a7c",
   "metadata": {},
   "outputs": [],
   "source": [
    "# fit and evaluate a model\n",
    "def evaluate_model_C1D3(trainX, trainy, testX, testy):\n",
    " verbose, epochs, batch_size = 0, 10, 32\n",
    " n_timesteps, n_features, n_outputs = trainX.shape[1], trainX.shape[2], trainy.shape[1]\n",
    " model = Sequential()\n",
    " model.add(Conv1D(filters=64, kernel_size=3, activation='relu', input_shape=(n_timesteps,n_features)))\n",
    " model.add(MaxPooling1D(pool_size=2))\n",
    " model.add(Flatten())\n",
    " model.add(Dense(100, activation='relu'))\n",
    " model.add(Dense(64, activation='relu'))\n",
    " model.add(Dense(n_outputs, activation='softmax'))\n",
    " model.compile(loss='categorical_crossentropy', optimizer='adam', metrics=['accuracy'])\n",
    " # fit network\n",
    " model.fit(trainX, trainy, epochs=epochs, batch_size=batch_size, verbose=verbose)\n",
    " # evaluate model\n",
    " _, accuracy = model.evaluate(testX, testy, batch_size=batch_size, verbose=0)\n",
    " return accuracy"
   ]
  },
  {
   "cell_type": "code",
   "execution_count": 8,
   "id": "f33cf8db",
   "metadata": {},
   "outputs": [],
   "source": [
    "# fit and evaluate a model\n",
    "def evaluate_model_C2D1(trainX, trainy, testX, testy):\n",
    " verbose, epochs, batch_size = 0, 10, 32\n",
    " n_timesteps, n_features, n_outputs = trainX.shape[1], trainX.shape[2], trainy.shape[1]\n",
    " model = Sequential()\n",
    " model.add(Conv1D(filters=64, kernel_size=3, activation='relu', input_shape=(n_timesteps,n_features)))\n",
    " model.add(MaxPooling1D(pool_size=2))\n",
    " model.add(Conv1D(filters=64, kernel_size=3, activation='relu'))\n",
    " model.add(Dropout(0.5))\n",
    " model.add(MaxPooling1D(pool_size=2))\n",
    " model.add(Flatten())\n",
    " model.add(Dense(n_outputs, activation='softmax'))\n",
    " model.compile(loss='categorical_crossentropy', optimizer='adam', metrics=['accuracy'])\n",
    " # fit network\n",
    " model.fit(trainX, trainy, epochs=epochs, batch_size=batch_size, verbose=verbose)\n",
    " # evaluate model\n",
    " _, accuracy = model.evaluate(testX, testy, batch_size=batch_size, verbose=0)\n",
    " return accuracy"
   ]
  },
  {
   "cell_type": "code",
   "execution_count": 9,
   "id": "e9b5a33c",
   "metadata": {},
   "outputs": [],
   "source": [
    "# fit and evaluate a model\n",
    "def evaluate_model_C2D2(trainX, trainy, testX, testy):\n",
    " verbose, epochs, batch_size = 0, 10, 32\n",
    " n_timesteps, n_features, n_outputs = trainX.shape[1], trainX.shape[2], trainy.shape[1]\n",
    " model = Sequential()\n",
    " model.add(Conv1D(filters=64, kernel_size=3, activation='relu', input_shape=(n_timesteps,n_features)))\n",
    " model.add(MaxPooling1D(pool_size=2))\n",
    " model.add(Conv1D(filters=64, kernel_size=3, activation='relu'))\n",
    " model.add(Dropout(0.5))\n",
    " model.add(MaxPooling1D(pool_size=2))\n",
    " model.add(Flatten())\n",
    " model.add(Dense(100, activation='relu'))\n",
    " model.add(Dense(n_outputs, activation='softmax'))\n",
    " model.compile(loss='categorical_crossentropy', optimizer='adam', metrics=['accuracy'])\n",
    " # fit network\n",
    " model.fit(trainX, trainy, epochs=epochs, batch_size=batch_size, verbose=verbose)\n",
    " # evaluate model\n",
    " _, accuracy = model.evaluate(testX, testy, batch_size=batch_size, verbose=0)\n",
    " return accuracy"
   ]
  },
  {
   "cell_type": "code",
   "execution_count": 10,
   "id": "1e959539",
   "metadata": {},
   "outputs": [],
   "source": [
    "# fit and evaluate a model\n",
    "def evaluate_model_C2D3(trainX, trainy, testX, testy):\n",
    " verbose, epochs, batch_size = 0, 10, 32\n",
    " n_timesteps, n_features, n_outputs = trainX.shape[1], trainX.shape[2], trainy.shape[1]\n",
    " model = Sequential()\n",
    " model.add(Conv1D(filters=64, kernel_size=3, activation='relu', input_shape=(n_timesteps,n_features)))\n",
    " model.add(MaxPooling1D(pool_size=2))\n",
    " model.add(Conv1D(filters=64, kernel_size=3, activation='relu'))\n",
    " model.add(Dropout(0.5))\n",
    " model.add(MaxPooling1D(pool_size=2))\n",
    " model.add(Flatten())\n",
    " model.add(Dense(100, activation='relu'))\n",
    " model.add(Dense(64, activation='relu'))\n",
    " model.add(Dense(n_outputs, activation='softmax'))\n",
    " model.compile(loss='categorical_crossentropy', optimizer='adam', metrics=['accuracy'])\n",
    " # fit network\n",
    " model.fit(trainX, trainy, epochs=epochs, batch_size=batch_size, verbose=verbose)\n",
    " # evaluate model\n",
    " _, accuracy = model.evaluate(testX, testy, batch_size=batch_size, verbose=0)\n",
    " return accuracy"
   ]
  },
  {
   "cell_type": "code",
   "execution_count": 11,
   "id": "1415e823",
   "metadata": {},
   "outputs": [],
   "source": [
    "# fit and evaluate a model\n",
    "def evaluate_model_C3D1(trainX, trainy, testX, testy):\n",
    " verbose, epochs, batch_size = 0, 10, 32\n",
    " n_timesteps, n_features, n_outputs = trainX.shape[1], trainX.shape[2], trainy.shape[1]\n",
    " model = Sequential()\n",
    " model.add(Conv1D(filters=64, kernel_size=3, activation='relu', input_shape=(n_timesteps,n_features)))\n",
    " model.add(MaxPooling1D(pool_size=2))\n",
    " model.add(Conv1D(filters=64, kernel_size=3, activation='relu'))\n",
    " model.add(Dropout(0.5))\n",
    " model.add(MaxPooling1D(pool_size=2))\n",
    " model.add(Conv1D(filters=32, kernel_size=3, activation='relu'))\n",
    " model.add(Dropout(0.5))\n",
    " model.add(MaxPooling1D(pool_size=2))\n",
    " model.add(Flatten())\n",
    " model.add(Dense(n_outputs, activation='softmax'))\n",
    " model.compile(loss='categorical_crossentropy', optimizer='adam', metrics=['accuracy'])\n",
    " # fit network\n",
    " model.fit(trainX, trainy, epochs=epochs, batch_size=batch_size, verbose=verbose)\n",
    " # evaluate model\n",
    " _, accuracy = model.evaluate(testX, testy, batch_size=batch_size, verbose=0)\n",
    " return accuracy"
   ]
  },
  {
   "cell_type": "code",
   "execution_count": 26,
   "id": "188f9b48",
   "metadata": {},
   "outputs": [],
   "source": [
    "# fit and evaluate a model\n",
    "def evaluate_model_C3D2(trainX, trainy, testX, testy):\n",
    " verbose, epochs, batch_size = 0, 10, 32\n",
    " n_timesteps, n_features, n_outputs = trainX.shape[1], trainX.shape[2], trainy.shape[1]\n",
    " model = Sequential()\n",
    " model.add(Conv1D(filters=64, kernel_size=3, activation='relu', input_shape=(n_timesteps,n_features)))\n",
    " model.add(MaxPooling1D(pool_size=2))\n",
    " model.add(Conv1D(filters=64, kernel_size=3, activation='relu'))\n",
    " model.add(Dropout(0.5))\n",
    " model.add(MaxPooling1D(pool_size=2))\n",
    " model.add(Conv1D(filters=32, kernel_size=3, activation='relu'))\n",
    " model.add(Dropout(0.5))\n",
    " model.add(MaxPooling1D(pool_size=2))\n",
    " model.add(Flatten())\n",
    " model.add(Dense(100, activation='relu'))\n",
    " model.add(Dense(n_outputs, activation='softmax'))\n",
    " model.compile(loss='categorical_crossentropy', optimizer='adam', metrics=['accuracy'])\n",
    " # fit network\n",
    " model.fit(trainX, trainy, epochs=epochs, batch_size=batch_size, verbose=verbose)\n",
    " # evaluate model\n",
    " _, accuracy = model.evaluate(testX, testy, batch_size=batch_size, verbose=0)\n",
    " return accuracy"
   ]
  },
  {
   "cell_type": "code",
   "execution_count": 25,
   "id": "27ee9374",
   "metadata": {},
   "outputs": [],
   "source": [
    "# fit and evaluate a model\n",
    "def evaluate_model_C3D3(trainX, trainy, testX, testy):\n",
    " verbose, epochs, batch_size = 0, 10, 32\n",
    " n_timesteps, n_features, n_outputs = trainX.shape[1], trainX.shape[2], trainy.shape[1]\n",
    " model = Sequential()\n",
    " model.add(Conv1D(filters=64, kernel_size=3, activation='relu', input_shape=(n_timesteps,n_features)))\n",
    " model.add(MaxPooling1D(pool_size=2))\n",
    " model.add(Conv1D(filters=64, kernel_size=3, activation='relu'))\n",
    " model.add(Dropout(0.5))\n",
    " model.add(MaxPooling1D(pool_size=2))\n",
    " model.add(Conv1D(filters=32, kernel_size=3, activation='relu'))\n",
    " model.add(Dropout(0.5))\n",
    " model.add(MaxPooling1D(pool_size=2))\n",
    " model.add(Flatten())\n",
    " model.add(Dense(100, activation='relu'))\n",
    " model.add(Dense(64, activation='relu'))\n",
    " model.add(Dense(n_outputs, activation='softmax'))\n",
    " model.compile(loss='categorical_crossentropy', optimizer='adam', metrics=['accuracy'])\n",
    " # fit network\n",
    " model.fit(trainX, trainy, epochs=epochs, batch_size=batch_size, verbose=verbose)\n",
    " # evaluate model\n",
    " _, accuracy = model.evaluate(testX, testy, batch_size=batch_size, verbose=0)\n",
    " return accuracy"
   ]
  },
  {
   "cell_type": "code",
   "execution_count": 13,
   "id": "8485ed71",
   "metadata": {},
   "outputs": [],
   "source": [
    "# summarize scores\n",
    "def summarize_results(scores):\n",
    " print(scores)\n",
    " m, s = mean(scores), std(scores)\n",
    " print('Accuracy: %.3f%% (+/-%.3f)' % (m, s))\n",
    " return m"
   ]
  },
  {
   "cell_type": "code",
   "execution_count": 14,
   "id": "087512e3",
   "metadata": {},
   "outputs": [
    {
     "name": "stdout",
     "output_type": "stream",
     "text": [
      "==================================\n",
      " DL ACCURACY OF VARIOUS LAYERS\n",
      "==================================\n"
     ]
    }
   ],
   "source": [
    "print (\"==================================\")\n",
    "print (\" DL ACCURACY OF VARIOUS LAYERS\" )\n",
    "print (\"==================================\")"
   ]
  },
  {
   "cell_type": "code",
   "execution_count": 15,
   "id": "5b6a5492",
   "metadata": {},
   "outputs": [],
   "source": [
    "results = list()\n",
    "conv = ['C1D2', 'C1D3', 'C2D1','C2D2','C2D3','C3D1','C3D2','C3D3']"
   ]
  },
  {
   "cell_type": "code",
   "execution_count": 16,
   "id": "f1abb81c",
   "metadata": {},
   "outputs": [
    {
     "name": "stdout",
     "output_type": "stream",
     "text": [
      "\n",
      "------ C1D2 ------\n",
      "(7352, 128, 9) (7352, 1)\n",
      "(2947, 128, 9) (2947, 1)\n",
      "(7352, 128, 9) (7352, 6) (2947, 128, 9) (2947, 6)\n",
      ">#1: 90.668\n",
      ">#2: 88.395\n",
      ">#3: 91.686\n",
      ">#4: 91.211\n",
      ">#5: 90.601\n",
      ">#6: 89.786\n",
      ">#7: 89.684\n",
      ">#8: 90.159\n",
      ">#9: 90.804\n",
      ">#10: 92.467\n",
      "[90.66847562789917, 88.39497566223145, 91.68646335601807, 91.21140241622925, 90.60060977935791, 89.78622555732727, 89.68442678451538, 90.15948176383972, 90.80420732498169, 92.46691465377808]\n",
      "Accuracy: 90.546% (+/-1.078)\n"
     ]
    },
    {
     "data": {
      "text/plain": [
       "[90.5463182926178]"
      ]
     },
     "execution_count": 16,
     "metadata": {},
     "output_type": "execute_result"
    }
   ],
   "source": [
    "print(\"\\n------ C1D2 ------\")\n",
    "trainX, trainy, testX, testy = load_dataset()\n",
    "scores = list()\n",
    "repeats = 10\n",
    "for r in range(repeats):\n",
    "    score = evaluate_model_C1D2(trainX, trainy, testX, testy)\n",
    "    score = score * 100.0\n",
    "    print('>#%d: %.3f' % (r+1, score))\n",
    "    scores.append(score)\n",
    "# summarize results\n",
    "accuracy = summarize_results(scores)\n",
    "results.append(accuracy)\n",
    "results"
   ]
  },
  {
   "cell_type": "code",
   "execution_count": 17,
   "id": "9fa726cd",
   "metadata": {},
   "outputs": [
    {
     "name": "stdout",
     "output_type": "stream",
     "text": [
      "\n",
      "------ C1D3 ------\n",
      "(7352, 128, 9) (7352, 1)\n",
      "(2947, 128, 9) (2947, 1)\n",
      "(7352, 128, 9) (7352, 6) (2947, 128, 9) (2947, 6)\n",
      ">#1: 90.397\n",
      ">#2: 87.988\n",
      ">#3: 91.177\n",
      ">#4: 90.804\n",
      ">#5: 89.209\n",
      ">#6: 90.838\n",
      ">#7: 90.770\n",
      ">#8: 90.838\n",
      ">#9: 85.612\n",
      ">#10: 88.768\n",
      "[90.39701223373413, 87.98778653144836, 91.17746949195862, 90.80420732498169, 89.20936584472656, 90.83814024925232, 90.77027440071106, 90.83814024925232, 85.61248779296875, 88.76823782920837]\n",
      "Accuracy: 89.640% (+/-1.683)\n"
     ]
    },
    {
     "data": {
      "text/plain": [
       "[90.5463182926178, 89.64031219482422]"
      ]
     },
     "execution_count": 17,
     "metadata": {},
     "output_type": "execute_result"
    }
   ],
   "source": [
    "print(\"\\n------ C1D3 ------\")\n",
    "trainX, trainy, testX, testy = load_dataset()\n",
    "scores = list()\n",
    "repeats = 10\n",
    "for r in range(repeats):\n",
    "    score = evaluate_model_C1D3(trainX, trainy, testX, testy)\n",
    "    score = score * 100.0\n",
    "    print('>#%d: %.3f' % (r+1, score))\n",
    "    scores.append(score)\n",
    "# summarize results\n",
    "accuracy = summarize_results(scores)\n",
    "results.append(accuracy)\n",
    "results"
   ]
  },
  {
   "cell_type": "code",
   "execution_count": 18,
   "id": "5356655d",
   "metadata": {},
   "outputs": [
    {
     "name": "stdout",
     "output_type": "stream",
     "text": [
      "\n",
      "------ C2D1 ------\n",
      "(7352, 128, 9) (7352, 1)\n",
      "(2947, 128, 9) (2947, 1)\n",
      "(7352, 128, 9) (7352, 6) (2947, 128, 9) (2947, 6)\n",
      ">#1: 91.788\n",
      ">#2: 91.042\n",
      ">#3: 91.890\n",
      ">#4: 90.533\n",
      ">#5: 87.988\n",
      ">#6: 90.058\n",
      ">#7: 91.619\n",
      ">#8: 91.856\n",
      ">#9: 90.499\n",
      ">#10: 92.738\n",
      "[91.78826212882996, 91.0417377948761, 91.89005494117737, 90.53274393081665, 87.98778653144836, 90.05768299102783, 91.6185975074768, 91.85612201690674, 90.49881100654602, 92.73837804794312]\n",
      "Accuracy: 91.001% (+/-1.264)\n"
     ]
    },
    {
     "data": {
      "text/plain": [
       "[90.5463182926178, 89.64031219482422, 91.0010176897049]"
      ]
     },
     "execution_count": 18,
     "metadata": {},
     "output_type": "execute_result"
    }
   ],
   "source": [
    "print(\"\\n------ C2D1 ------\")\n",
    "trainX, trainy, testX, testy = load_dataset()\n",
    "scores = list()\n",
    "repeats = 10\n",
    "for r in range(repeats):\n",
    "    score = evaluate_model_C2D2(trainX, trainy, testX, testy)\n",
    "    score = score * 100.0\n",
    "    print('>#%d: %.3f' % (r+1, score))\n",
    "    scores.append(score)\n",
    "# summarize results\n",
    "accuracy = summarize_results(scores)\n",
    "results.append(accuracy)\n",
    "results"
   ]
  },
  {
   "cell_type": "code",
   "execution_count": 19,
   "id": "2034ce9a",
   "metadata": {},
   "outputs": [
    {
     "name": "stdout",
     "output_type": "stream",
     "text": [
      "\n",
      "------ C2D2 ------\n",
      "(7352, 128, 9) (7352, 1)\n",
      "(2947, 128, 9) (2947, 1)\n",
      "(7352, 128, 9) (7352, 6) (2947, 128, 9) (2947, 6)\n",
      ">#1: 91.076\n",
      ">#2: 90.906\n",
      ">#3: 91.856\n",
      ">#4: 91.211\n",
      ">#5: 91.008\n",
      ">#6: 88.022\n",
      ">#7: 91.347\n",
      ">#8: 91.992\n",
      ">#9: 91.381\n",
      ">#10: 91.992\n",
      "[91.07567071914673, 90.90600609779358, 91.85612201690674, 91.21140241622925, 91.00780487060547, 88.021719455719, 91.34713411331177, 91.99185371398926, 91.3810670375824, 91.99185371398926]\n",
      "Accuracy: 91.079% (+/-1.088)\n"
     ]
    },
    {
     "data": {
      "text/plain": [
       "[90.5463182926178, 89.64031219482422, 91.0010176897049, 91.07906341552734]"
      ]
     },
     "execution_count": 19,
     "metadata": {},
     "output_type": "execute_result"
    }
   ],
   "source": [
    "print(\"\\n------ C2D2 ------\")\n",
    "trainX, trainy, testX, testy = load_dataset()\n",
    "scores = list()\n",
    "repeats = 10\n",
    "for r in range(repeats):\n",
    "    score = evaluate_model_C2D2(trainX, trainy, testX, testy)\n",
    "    score = score * 100.0\n",
    "    print('>#%d: %.3f' % (r+1, score))\n",
    "    scores.append(score)\n",
    "# summarize results\n",
    "accuracy = summarize_results(scores)\n",
    "results.append(accuracy)\n",
    "results"
   ]
  },
  {
   "cell_type": "code",
   "execution_count": 20,
   "id": "748e31d2",
   "metadata": {},
   "outputs": [
    {
     "name": "stdout",
     "output_type": "stream",
     "text": [
      "\n",
      "------ C2D3 ------\n",
      "(7352, 128, 9) (7352, 1)\n",
      "(2947, 128, 9) (2947, 1)\n",
      "(7352, 128, 9) (7352, 6) (2947, 128, 9) (2947, 6)\n",
      ">#1: 91.279\n",
      ">#2: 91.619\n",
      ">#3: 90.736\n",
      ">#4: 89.549\n",
      ">#5: 90.465\n",
      ">#6: 91.347\n",
      ">#7: 90.668\n",
      ">#8: 91.653\n",
      ">#9: 85.002\n",
      ">#10: 91.008\n",
      "[91.27926826477051, 91.6185975074768, 90.73634147644043, 89.54869508743286, 90.46487808227539, 91.34713411331177, 90.66847562789917, 91.65253043174744, 85.00169515609741, 91.00780487060547]\n",
      "Accuracy: 90.333% (+/-1.874)\n"
     ]
    },
    {
     "data": {
      "text/plain": [
       "[90.5463182926178,\n",
       " 89.64031219482422,\n",
       " 91.0010176897049,\n",
       " 91.07906341552734,\n",
       " 90.33254206180573]"
      ]
     },
     "execution_count": 20,
     "metadata": {},
     "output_type": "execute_result"
    }
   ],
   "source": [
    "print(\"\\n------ C2D3 ------\")\n",
    "trainX, trainy, testX, testy = load_dataset()\n",
    "scores = list()\n",
    "repeats = 10\n",
    "for r in range(repeats):\n",
    "    score = evaluate_model_C2D3(trainX, trainy, testX, testy)\n",
    "    score = score * 100.0\n",
    "    print('>#%d: %.3f' % (r+1, score))\n",
    "    scores.append(score)\n",
    "# summarize results\n",
    "accuracy = summarize_results(scores)\n",
    "results.append(accuracy)\n",
    "results"
   ]
  },
  {
   "cell_type": "code",
   "execution_count": 21,
   "id": "633cc6e1",
   "metadata": {},
   "outputs": [
    {
     "name": "stdout",
     "output_type": "stream",
     "text": [
      "\n",
      "------ C3D1 ------\n",
      "(7352, 128, 9) (7352, 1)\n",
      "(2947, 128, 9) (2947, 1)\n",
      "(7352, 128, 9) (7352, 6) (2947, 128, 9) (2947, 6)\n",
      ">#1: 90.567\n",
      ">#2: 90.974\n",
      ">#3: 90.702\n",
      ">#4: 91.720\n",
      ">#5: 90.363\n",
      ">#6: 91.551\n",
      ">#7: 90.499\n",
      ">#8: 92.297\n",
      ">#9: 91.347\n",
      ">#10: 91.686\n",
      "[90.56667685508728, 90.97387194633484, 90.7024085521698, 91.7203962802887, 90.3630793094635, 91.55073165893555, 90.49881100654602, 92.29725003242493, 91.34713411331177, 91.68646335601807]\n",
      "Accuracy: 91.171% (+/-0.612)\n"
     ]
    },
    {
     "data": {
      "text/plain": [
       "[90.5463182926178,\n",
       " 89.64031219482422,\n",
       " 91.0010176897049,\n",
       " 91.07906341552734,\n",
       " 90.33254206180573,\n",
       " 91.17068231105804]"
      ]
     },
     "execution_count": 21,
     "metadata": {},
     "output_type": "execute_result"
    }
   ],
   "source": [
    "print(\"\\n------ C3D1 ------\")\n",
    "trainX, trainy, testX, testy = load_dataset()\n",
    "scores = list()\n",
    "repeats = 10\n",
    "for r in range(repeats):\n",
    "    score = evaluate_model_C3D1(trainX, trainy, testX, testy)\n",
    "    score = score * 100.0\n",
    "    print('>#%d: %.3f' % (r+1, score))\n",
    "    scores.append(score)\n",
    "# summarize results\n",
    "accuracy = summarize_results(scores)\n",
    "results.append(accuracy)\n",
    "results"
   ]
  },
  {
   "cell_type": "code",
   "execution_count": 22,
   "id": "8648b5b6",
   "metadata": {},
   "outputs": [
    {
     "name": "stdout",
     "output_type": "stream",
     "text": [
      "\n",
      "------ C3D2 ------\n",
      "(7352, 128, 9) (7352, 1)\n",
      "(2947, 128, 9) (2947, 1)\n",
      "(7352, 128, 9) (7352, 6) (2947, 128, 9) (2947, 6)\n",
      ">#1: 92.603\n",
      ">#2: 91.585\n",
      ">#3: 91.211\n",
      ">#4: 91.686\n",
      ">#5: 91.211\n",
      ">#6: 90.465\n",
      ">#7: 90.363\n",
      ">#8: 91.211\n",
      ">#9: 91.483\n",
      ">#10: 90.363\n",
      "[92.6026463508606, 91.58466458320618, 91.21140241622925, 91.68646335601807, 91.21140241622925, 90.46487808227539, 90.3630793094635, 91.21140241622925, 91.48286581039429, 90.3630793094635]\n",
      "Accuracy: 91.218% (+/-0.661)\n"
     ]
    },
    {
     "data": {
      "text/plain": [
       "[90.5463182926178,\n",
       " 89.64031219482422,\n",
       " 91.0010176897049,\n",
       " 91.07906341552734,\n",
       " 90.33254206180573,\n",
       " 91.17068231105804,\n",
       " 91.21818840503693]"
      ]
     },
     "execution_count": 22,
     "metadata": {},
     "output_type": "execute_result"
    }
   ],
   "source": [
    "print(\"\\n------ C3D2 ------\")\n",
    "trainX, trainy, testX, testy = load_dataset()\n",
    "scores = list()\n",
    "repeats = 10\n",
    "for r in range(repeats):\n",
    "    score = evaluate_model_C3D2(trainX, trainy, testX, testy)\n",
    "    score = score * 100.0\n",
    "    print('>#%d: %.3f' % (r+1, score))\n",
    "    scores.append(score)\n",
    "# summarize results\n",
    "accuracy = summarize_results(scores)\n",
    "results.append(accuracy)\n",
    "results"
   ]
  },
  {
   "cell_type": "code",
   "execution_count": 27,
   "id": "3162c40e",
   "metadata": {},
   "outputs": [
    {
     "name": "stdout",
     "output_type": "stream",
     "text": [
      "\n",
      "------ C3D3 ------\n",
      "(7352, 128, 9) (7352, 1)\n",
      "(2947, 128, 9) (2947, 1)\n",
      "(7352, 128, 9) (7352, 6) (2947, 128, 9) (2947, 6)\n",
      ">#1: 92.365\n",
      ">#2: 91.992\n",
      ">#3: 90.702\n",
      ">#4: 91.008\n",
      ">#5: 91.279\n",
      ">#6: 88.463\n",
      ">#7: 90.431\n",
      ">#8: 90.770\n",
      ">#9: 91.686\n",
      ">#10: 91.313\n",
      "[92.36511588096619, 91.99185371398926, 90.7024085521698, 91.00780487060547, 91.27926826477051, 88.4628415107727, 90.43094515800476, 90.77027440071106, 91.68646335601807, 91.31320118904114]\n",
      "Accuracy: 91.001% (+/-1.020)\n"
     ]
    },
    {
     "data": {
      "text/plain": [
       "[90.5463182926178,\n",
       " 89.64031219482422,\n",
       " 91.0010176897049,\n",
       " 91.07906341552734,\n",
       " 90.33254206180573,\n",
       " 91.17068231105804,\n",
       " 91.21818840503693,\n",
       " 91.0010176897049]"
      ]
     },
     "execution_count": 27,
     "metadata": {},
     "output_type": "execute_result"
    }
   ],
   "source": [
    "print(\"\\n------ C3D3 ------\")\n",
    "trainX, trainy, testX, testy = load_dataset()\n",
    "scores = list()\n",
    "repeats = 10\n",
    "for r in range(repeats):\n",
    "    score = evaluate_model_C3D3(trainX, trainy, testX, testy)\n",
    "    score = score * 100.0\n",
    "    print('>#%d: %.3f' % (r+1, score))\n",
    "    scores.append(score)\n",
    "# summarize results\n",
    "accuracy = summarize_results(scores)\n",
    "results.append(accuracy)\n",
    "results"
   ]
  },
  {
   "cell_type": "code",
   "execution_count": 32,
   "id": "7e01d406",
   "metadata": {},
   "outputs": [
    {
     "data": {
      "image/png": "[encoded data removed]",
      "text/plain": [
       "<Figure size 640x480 with 1 Axes>"
      ]
     },
     "metadata": {},
     "output_type": "display_data"
    }
   ],
   "source": [
    "plt.plot( conv, results)\n",
    "plt.title('Conv_Accuracy')\n",
    "plt.xlabel('Conv')\n",
    "plt.ylabel('Accuracy')\n",
    "plt.show()"
   ]
  },
  {
   "cell_type": "code",
   "execution_count": null,
   "id": "4b147a55",
   "metadata": {},
   "outputs": [],
   "source": [
    "# run an experiment\n",
    "#def run_experiment(repeats=10):\n",
    " ## load data\n",
    " #trainX, trainy, testX, testy = load_dataset()\n",
    " ## repeat experiment\n",
    " #scores = list()\n",
    " #print(trainX.shape)\n",
    " #for r in range(repeats):\n",
    "  #score = evaluate_model(trainX, trainy, testX, testy)\n",
    "  #score = score * 100.0\n",
    "  #print('>#%d: %.3f' % (r+1, score))\n",
    "  #scores.append(score)\n",
    " ##summarize results\n",
    " #summarize_results(scores)"
   ]
  },
  {
   "cell_type": "code",
   "execution_count": 10,
   "id": "86d31e7e",
   "metadata": {},
   "outputs": [
    {
     "name": "stdout",
     "output_type": "stream",
     "text": [
      "(7352, 128, 9) (7352, 1)\n",
      "(2947, 128, 9) (2947, 1)\n",
      "(7352, 128, 9) (7352, 6) (2947, 128, 9) (2947, 6)\n",
      "(7352, 128, 9)\n",
      ">#1: 90.702\n",
      ">#2: 91.686\n",
      ">#3: 91.347\n",
      ">#4: 89.481\n",
      ">#5: 90.126\n",
      ">#6: 90.635\n",
      ">#7: 91.042\n",
      ">#8: 90.363\n",
      ">#9: 91.415\n",
      ">#10: 91.449\n",
      "[90.7024085521698, 91.68646335601807, 91.34713411331177, 89.4808292388916, 90.12554883956909, 90.63454270362854, 91.0417377948761, 90.3630793094635, 91.41499996185303, 91.44893288612366]\n",
      "Accuracy: 90.825% (+/-0.660)\n"
     ]
    }
   ],
   "source": [
    "# run the experiment\n",
    "run_experiment()"
   ]
  },
  {
   "cell_type": "code",
   "execution_count": null,
   "id": "c7c1821f",
   "metadata": {},
   "outputs": [],
   "source": []
  }
 ],
 "metadata": {
  "kernelspec": {
   "display_name": "Python 3 (ipykernel)",
   "language": "python",
   "name": "python3"
  },
  "language_info": {
   "codemirror_mode": {
    "name": "ipython",
    "version": 3
   },
   "file_extension": ".py",
   "mimetype": "text/x-python",
   "name": "python",
   "nbconvert_exporter": "python",
   "pygments_lexer": "ipython3",
   "version": "3.9.13"
  }
 },
 "nbformat": 4,
 "nbformat_minor": 5
}
