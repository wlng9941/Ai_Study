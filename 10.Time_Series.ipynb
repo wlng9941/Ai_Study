{
 "cells": [
  {
   "cell_type": "code",
   "execution_count": 1,
   "id": "077e4df9",
   "metadata": {},
   "outputs": [
    {
     "name": "stderr",
     "output_type": "stream",
     "text": [
      "--2023-05-24 16:02:28--  https://s3.amazonaws.com/keras-datasets/jena_climate_2009_2016.csv.zip\n",
      "Resolving s3.amazonaws.com (s3.amazonaws.com)... 54.231.134.16, 52.216.96.5, 52.216.113.229, ...\n",
      "Connecting to s3.amazonaws.com (s3.amazonaws.com)|54.231.134.16|:443... connected.\n",
      "HTTP request sent, awaiting response... 200 OK\n",
      "Length: 13565642 (13M) [application/zip]\n",
      "Saving to: 'jena_climate_2009_2016.csv.zip'\n",
      "\n",
      "     0K .......... .......... .......... .......... ..........  0%  251K 53s\n",
      "    50K .......... .......... .......... .......... ..........  0%  254K 52s\n",
      "   100K .......... .......... .......... .......... ..........  1% 35.8M 35s\n",
      "   150K .......... .......... .......... .......... ..........  1%  258K 39s\n",
      "   200K .......... .......... .......... .......... ..........  1% 85.0M 31s\n",
      "   250K .......... .......... .......... .......... ..........  2% 20.4M 26s\n",
      "   300K .......... .......... .......... .......... ..........  2%  254K 29s\n",
      "   350K .......... .......... .......... .......... ..........  3% 11.8M 26s\n",
      "   400K .......... .......... .......... .......... ..........  3% 15.9M 23s\n",
      "   450K .......... .......... .......... .......... ..........  3% 15.6M 20s\n",
      "   500K .......... .......... .......... .......... ..........  4% 31.4M 19s\n",
      "   550K .......... .......... .......... .......... ..........  4%  144M 17s\n",
      "   600K .......... .......... .......... .......... ..........  4% 22.8M 16s\n",
      "   650K .......... .......... .......... .......... ..........  5% 24.1M 14s\n",
      "   700K .......... .......... .......... .......... ..........  5%  278K 16s\n",
      "   750K .......... .......... .......... .......... ..........  6% 9.71M 15s\n",
      "   800K .......... .......... .......... .......... ..........  6% 24.3M 15s\n",
      "   850K .......... .......... .......... .......... ..........  6%  148M 14s\n",
      "   900K .......... .......... .......... .......... ..........  7% 7.73M 13s\n",
      "   950K .......... .......... .......... .......... ..........  7% 42.0M 12s\n",
      "  1000K .......... .......... .......... .......... ..........  7% 42.0M 12s\n",
      "  1050K .......... .......... .......... .......... ..........  8%  199K 14s\n",
      "  1100K .......... .......... .......... .......... ..........  8%  391K 15s\n",
      "  1150K .......... .......... .......... .......... ..........  9% 5.45M 14s\n",
      "  1200K .......... .......... .......... .......... ..........  9%  125M 13s\n",
      "  1250K .......... .......... .......... .......... ..........  9%  117M 13s\n",
      "  1300K .......... .......... .......... .......... .......... 10% 61.0M 12s\n",
      "  1350K .......... .......... .......... .......... .......... 10%  198M 12s\n",
      "  1400K .......... .......... .......... .......... .......... 10%  168M 11s\n",
      "  1450K .......... .......... .......... .......... .......... 11% 63.5M 11s\n",
      "  1500K .......... .......... .......... .......... .......... 11%  146M 11s\n",
      "  1550K .......... .......... .......... .......... .......... 12%  138M 10s\n",
      "  1600K .......... .......... .......... .......... .......... 12%  922K 10s\n",
      "  1650K .......... .......... .......... .......... .......... 12%  141M 10s\n",
      "  1700K .......... .......... .......... .......... .......... 13% 83.7M 10s\n",
      "  1750K .......... .......... .......... .......... .......... 13%  130M 9s\n",
      "  1800K .......... .......... .......... .......... .......... 13% 11.1M 9s\n",
      "  1850K .......... .......... .......... .......... .......... 14% 50.4M 9s\n",
      "  1900K .......... .......... .......... .......... .......... 14%  406K 9s\n",
      "  1950K .......... .......... .......... .......... .......... 15% 6.63M 9s\n",
      "  2000K .......... .......... .......... .......... .......... 15% 2.64M 9s\n",
      "  2050K .......... .......... .......... .......... .......... 15% 1.21M 9s\n",
      "  2100K .......... .......... .......... .......... .......... 16% 59.8M 9s\n",
      "  2150K .......... .......... .......... .......... .......... 16% 11.3M 8s\n",
      "  2200K .......... .......... .......... .......... .......... 16% 89.4M 8s\n",
      "  2250K .......... .......... .......... .......... .......... 17% 19.0M 8s\n",
      "  2300K .......... .......... .......... .......... .......... 17% 22.9M 8s\n",
      "  2350K .......... .......... .......... .......... .......... 18%  389K 8s\n",
      "  2400K .......... .......... .......... .......... .......... 18%  246K 9s\n",
      "  2450K .......... .......... .......... .......... .......... 18%  277M 9s\n",
      "  2500K .......... .......... .......... .......... .......... 19% 78.4M 8s\n",
      "  2550K .......... .......... .......... .......... .......... 19%  141M 8s\n",
      "  2600K .......... .......... .......... .......... .......... 20%  271M 8s\n",
      "  2650K .......... .......... .......... .......... .......... 20%  104M 8s\n",
      "  2700K .......... .......... .......... .......... .......... 20%  222M 8s\n",
      "  2750K .......... .......... .......... .......... .......... 21%  112M 7s\n",
      "  2800K .......... .......... .......... .......... .......... 21%  257M 7s\n",
      "  2850K .......... .......... .......... .......... .......... 21%  181M 7s\n",
      "  2900K .......... .......... .......... .......... .......... 22%  716K 7s\n",
      "  2950K .......... .......... .......... .......... .......... 22% 72.4M 7s\n",
      "  3000K .......... .......... .......... .......... .......... 23%  426K 7s\n",
      "  3050K .......... .......... .......... .......... .......... 23% 83.6M 7s\n",
      "  3100K .......... .......... .......... .......... .......... 23%  221M 7s\n",
      "  3150K .......... .......... .......... .......... .......... 24% 49.7M 7s\n",
      "  3200K .......... .......... .......... .......... .......... 24%  178M 7s\n",
      "  3250K .......... .......... .......... .......... .......... 24%  254M 7s\n",
      "  3300K .......... .......... .......... .......... .......... 25%  120M 6s\n",
      "  3350K .......... .......... .......... .......... .......... 25%  159M 6s\n",
      "  3400K .......... .......... .......... .......... .......... 26% 12.8M 6s\n",
      "  3450K .......... .......... .......... .......... .......... 26% 2.44M 6s\n",
      "  3500K .......... .......... .......... .......... .......... 26% 1.20M 6s\n",
      "  3550K .......... .......... .......... .......... .......... 27% 3.65M 6s\n",
      "  3600K .......... .......... .......... .......... .......... 27% 25.4M 6s\n",
      "  3650K .......... .......... .......... .......... .......... 27% 36.8M 6s\n",
      "  3700K .......... .......... .......... .......... .......... 28%  168M 6s\n",
      "  3750K .......... .......... .......... .......... .......... 28% 42.0M 6s\n",
      "  3800K .......... .......... .......... .......... .......... 29%  141M 6s\n",
      "  3850K .......... .......... .......... .......... .......... 29%  158K 6s\n",
      "  3900K .......... .......... .......... .......... .......... 29%  991K 6s\n",
      "  3950K .......... .......... .......... .......... .......... 30%  153M 6s\n",
      "  4000K .......... .......... .......... .......... .......... 30%  171M 6s\n",
      "  4050K .......... .......... .......... .......... .......... 30%  237M 6s\n",
      "  4100K .......... .......... .......... .......... .......... 31%  117M 6s\n",
      "  4150K .......... .......... .......... .......... .......... 31%  156M 6s\n",
      "  4200K .......... .......... .......... .......... .......... 32%  158M 6s\n",
      "  4250K .......... .......... .......... .......... .......... 32%  151M 5s\n",
      "  4300K .......... .......... .......... .......... .......... 32%  102M 5s\n",
      "  4350K .......... .......... .......... .......... .......... 33%  105M 5s\n",
      "  4400K .......... .......... .......... .......... .......... 33%  191M 5s\n",
      "  4450K .......... .......... .......... .......... .......... 33% 2.13M 5s\n",
      "  4500K .......... .......... .......... .......... .......... 34% 4.89M 5s\n",
      "  4550K .......... .......... .......... .......... .......... 34%  455K 5s\n",
      "  4600K .......... .......... .......... .......... .......... 35% 24.9M 5s\n",
      "  4650K .......... .......... .......... .......... .......... 35% 36.1M 5s\n",
      "  4700K .......... .......... .......... .......... .......... 35%  155M 5s\n",
      "  4750K .......... .......... .......... .......... .......... 36% 19.7M 5s\n",
      "  4800K .......... .......... .......... .......... .......... 36% 1.12M 5s\n",
      "  4850K .......... .......... .......... .......... .......... 36% 1.81M 5s\n",
      "  4900K .......... .......... .......... .......... .......... 37%  378K 5s\n",
      "  4950K .......... .......... .......... .......... .......... 37% 24.2M 5s\n",
      "  5000K .......... .......... .......... .......... .......... 38% 18.1M 5s\n",
      "  5050K .......... .......... .......... .......... .......... 38%  148M 5s\n",
      "  5100K .......... .......... .......... .......... .......... 38% 17.8M 5s\n",
      "  5150K .......... .......... .......... .......... .......... 39% 56.8M 5s\n",
      "  5200K .......... .......... .......... .......... .......... 39% 1.59M 5s\n",
      "  5250K .......... .......... .......... .......... .......... 40% 1.88M 5s\n",
      "  5300K .......... .......... .......... .......... .......... 40% 5.49M 5s\n",
      "  5350K .......... .......... .......... .......... .......... 40%  398K 5s\n",
      "  5400K .......... .......... .......... .......... .......... 41% 68.8M 5s\n",
      "  5450K .......... .......... .......... .......... .......... 41% 11.5M 4s\n",
      "  5500K .......... .......... .......... .......... .......... 41%  241M 4s\n",
      "  5550K .......... .......... .......... .......... .......... 42% 34.4M 4s\n",
      "  5600K .......... .......... .......... .......... .......... 42%  231M 4s\n",
      "  5650K .......... .......... .......... .......... .......... 43% 1016K 4s\n",
      "  5700K .......... .......... .......... .......... .......... 43% 3.74M 4s\n",
      "  5750K .......... .......... .......... .......... .......... 43%  393K 4s\n",
      "  5800K .......... .......... .......... .......... .......... 44%  137M 4s\n",
      "  5850K .......... .......... .......... .......... .......... 44% 10.9M 4s\n",
      "  5900K .......... .......... .......... .......... .......... 44% 20.5M 4s\n",
      "  5950K .......... .......... .......... .......... .......... 45%  113M 4s\n",
      "  6000K .......... .......... .......... .......... .......... 45%  196M 4s\n",
      "  6050K .......... .......... .......... .......... .......... 46% 1.78M 4s\n",
      "  6100K .......... .......... .......... .......... .......... 46% 2.01M 4s\n",
      "  6150K .......... .......... .......... .......... .......... 46% 3.48M 4s\n",
      "  6200K .......... .......... .......... .......... .......... 47%  393K 4s\n",
      "  6250K .......... .......... .......... .......... .......... 47% 22.0M 4s\n",
      "  6300K .......... .......... .......... .......... .......... 47% 6.46M 4s\n",
      "  6350K .......... .......... .......... .......... .......... 48% 8.80M 4s\n",
      "  6400K .......... .......... .......... .......... .......... 48%  208M 4s\n",
      "  6450K .......... .......... .......... .......... .......... 49% 52.0M 4s\n",
      "  6500K .......... .......... .......... .......... .......... 49% 1.12M 4s\n",
      "  6550K .......... .......... .......... .......... .......... 49% 4.37M 4s\n",
      "  6600K .......... .......... .......... .......... .......... 50%  390K 4s\n",
      "  6650K .......... .......... .......... .......... .......... 50% 42.3M 4s\n",
      "  6700K .......... .......... .......... .......... .......... 50% 6.49M 4s\n",
      "  6750K .......... .......... .......... .......... .......... 51% 44.8M 4s\n",
      "  6800K .......... .......... .......... .......... .......... 51% 10.1M 4s\n",
      "  6850K .......... .......... .......... .......... .......... 52%  121M 3s\n",
      "  6900K .......... .......... .......... .......... .......... 52% 2.44M 3s\n",
      "  6950K .......... .......... .......... .......... .......... 52% 2.13M 3s\n",
      "  7000K .......... .......... .......... .......... .......... 53% 4.41M 3s\n",
      "  7050K .......... .......... .......... .......... .......... 53%  388K 3s\n",
      "  7100K .......... .......... .......... .......... .......... 53% 28.1M 3s\n",
      "  7150K .......... .......... .......... .......... .......... 54% 8.80M 3s\n",
      "  7200K .......... .......... .......... .......... .......... 54% 32.2M 3s\n",
      "  7250K .......... .......... .......... .......... .......... 55% 7.88M 3s\n",
      "  7300K .......... .......... .......... .......... .......... 55%  206M 3s\n",
      "  7350K .......... .......... .......... .......... .......... 55% 1.62M 3s\n",
      "  7400K .......... .......... .......... .......... .......... 56% 3.41M 3s\n",
      "  7450K .......... .......... .......... .......... .......... 56% 4.94M 3s\n",
      "  7500K .......... .......... .......... .......... .......... 56%  372K 3s\n",
      "  7550K .......... .......... .......... .......... .......... 57%  243K 3s\n",
      "  7600K .......... .......... .......... .......... .......... 57%  156M 3s\n",
      "  7650K .......... .......... .......... .......... .......... 58%  109M 3s\n",
      "  7700K .......... .......... .......... .......... .......... 58% 7.40M 3s\n",
      "  7750K .......... .......... .......... .......... .......... 58%  380M 3s\n",
      "  7800K .......... .......... .......... .......... .......... 59%  127M 3s\n",
      "  7850K .......... .......... .......... .......... .......... 59% 1.07M 3s\n",
      "  7900K .......... .......... .......... .......... .......... 60% 5.93M 3s\n",
      "  7950K .......... .......... .......... .......... .......... 60% 69.4M 3s\n",
      "  8000K .......... .......... .......... .......... .......... 60%  120M 3s\n",
      "  8050K .......... .......... .......... .......... .......... 61%  126M 3s\n",
      "  8100K .......... .......... .......... .......... .......... 61%  397K 3s\n",
      "  8150K .......... .......... .......... .......... .......... 61% 14.3M 3s\n",
      "  8200K .......... .......... .......... .......... .......... 62% 93.3M 3s\n",
      "  8250K .......... .......... .......... .......... .......... 62% 17.2M 3s\n",
      "  8300K .......... .......... .......... .......... .......... 63% 1.30M 3s\n",
      "  8350K .......... .......... .......... .......... .......... 63% 3.00M 3s\n",
      "  8400K .......... .......... .......... .......... .......... 63%  371K 3s\n",
      "  8450K .......... .......... .......... .......... .......... 64% 49.2M 3s\n",
      "  8500K .......... .......... .......... .......... .......... 64% 5.49M 3s\n",
      "  8550K .......... .......... .......... .......... .......... 64%  231M 3s\n",
      "  8600K .......... .......... .......... .......... .......... 65% 2.64M 3s\n",
      "  8650K .......... .......... .......... .......... .......... 65% 1.40M 3s\n",
      "  8700K .......... .......... .......... .......... .......... 66%  373K 3s\n",
      "  8750K .......... .......... .......... .......... .......... 66% 26.4M 3s\n",
      "  8800K .......... .......... .......... .......... .......... 66% 7.96M 2s\n",
      "  8850K .......... .......... .......... .......... .......... 67% 17.0M 2s\n",
      "  8900K .......... .......... .......... .......... .......... 67% 7.98M 2s\n",
      "  8950K .......... .......... .......... .......... .......... 67% 1.36M 2s\n",
      "  9000K .......... .......... .......... .......... .......... 68% 4.58M 2s\n",
      "  9050K .......... .......... .......... .......... .......... 68%  380K 2s\n",
      "  9100K .......... .......... .......... .......... .......... 69% 21.8M 2s\n",
      "  9150K .......... .......... .......... .......... .......... 69% 4.92M 2s\n",
      "  9200K .......... .......... .......... .......... .......... 69% 19.7M 2s\n",
      "  9250K .......... .......... .......... .......... .......... 70% 27.5M 2s\n",
      "  9300K .......... .......... .......... .......... .......... 70%  209K 2s\n",
      "  9350K .......... .......... .......... .......... .......... 70%  303M 2s\n",
      "  9400K .......... .......... .......... .......... .......... 71% 94.1M 2s\n",
      "  9450K .......... .......... .......... .......... .......... 71%  219M 2s\n",
      "  9500K .......... .......... .......... .......... .......... 72%  105M 2s\n",
      "  9550K .......... .......... .......... .......... .......... 72%  209M 2s\n",
      "  9600K .......... .......... .......... .......... .......... 72%  340M 2s\n",
      "  9650K .......... .......... .......... .......... .......... 73% 3.04M 2s\n",
      "  9700K .......... .......... .......... .......... .......... 73%  395K 2s\n",
      "  9750K .......... .......... .......... .......... .......... 73% 3.11M 2s\n",
      "  9800K .......... .......... .......... .......... .......... 74% 1.88M 2s\n",
      "  9850K .......... .......... .......... .......... .......... 74% 2.33M 2s\n",
      "  9900K .......... .......... .......... .......... .......... 75%  388K 2s\n",
      "  9950K .......... .......... .......... .......... .......... 75% 8.45M 2s\n",
      " 10000K .......... .......... .......... .......... .......... 75% 3.15M 2s\n",
      " 10050K .......... .......... .......... .......... .......... 76% 1.88M 2s\n",
      " 10100K .......... .......... .......... .......... .......... 76% 2.17M 2s\n",
      " 10150K .......... .......... .......... .......... .......... 76%  396K 2s\n",
      " 10200K .......... .......... .......... .......... .......... 77% 6.06M 2s\n",
      " 10250K .......... .......... .......... .......... .......... 77% 4.05M 2s\n",
      " 10300K .......... .......... .......... .......... .......... 78% 1.85M 2s\n",
      " 10350K .......... .......... .......... .......... .......... 78% 2.38M 2s\n",
      " 10400K .......... .......... .......... .......... .......... 78%  392K 2s\n",
      " 10450K .......... .......... .......... .......... .......... 79% 11.7M 2s\n",
      " 10500K .......... .......... .......... .......... .......... 79% 2.92M 2s\n",
      " 10550K .......... .......... .......... .......... .......... 80% 1.89M 2s\n",
      " 10600K .......... .......... .......... .......... .......... 80% 2.33M 2s\n",
      " 10650K .......... .......... .......... .......... .......... 80%  396K 2s\n",
      " 10700K .......... .......... .......... .......... .......... 81% 9.11M 1s\n",
      " 10750K .......... .......... .......... .......... .......... 81% 6.79M 1s\n",
      " 10800K .......... .......... .......... .......... .......... 81% 1.58M 1s\n",
      " 10850K .......... .......... .......... .......... .......... 82% 5.96M 1s\n",
      " 10900K .......... .......... .......... .......... .......... 82%  792K 1s\n",
      " 10950K .......... .......... .......... .......... .......... 83%  584K 1s\n",
      " 11000K .......... .......... .......... .......... .......... 83% 7.57M 1s\n",
      " 11050K .......... .......... .......... .......... .......... 83% 2.03M 1s\n",
      " 11100K .......... .......... .......... .......... .......... 84% 3.35M 1s\n",
      " 11150K .......... .......... .......... .......... .......... 84% 2.00M 1s\n",
      " 11200K .......... .......... .......... .......... .......... 84%  406K 1s\n",
      " 11250K .......... .......... .......... .......... .......... 85% 6.46M 1s\n",
      " 11300K .......... .......... .......... .......... .......... 85% 3.39M 1s\n",
      " 11350K .......... .......... .......... .......... .......... 86% 2.05M 1s\n",
      " 11400K .......... .......... .......... .......... .......... 86% 1.93M 1s\n",
      " 11450K .......... .......... .......... .......... .......... 86%  416K 1s\n",
      " 11500K .......... .......... .......... .......... .......... 87% 6.68M 1s\n",
      " 11550K .......... .......... .......... .......... .......... 87% 6.49M 1s\n",
      " 11600K .......... .......... .......... .......... .......... 87% 2.05M 1s\n",
      " 11650K .......... .......... .......... .......... .......... 88% 3.99M 1s\n",
      " 11700K .......... .......... .......... .......... .......... 88% 1.82M 1s\n",
      " 11750K .......... .......... .......... .......... .......... 89%  396K 1s\n",
      " 11800K .......... .......... .......... .......... .......... 89% 11.6M 1s\n",
      " 11850K .......... .......... .......... .......... .......... 89% 3.75M 1s\n",
      " 11900K .......... .......... .......... .......... .......... 90% 2.18M 1s\n",
      " 11950K .......... .......... .......... .......... .......... 90% 1.70M 1s\n",
      " 12000K .......... .......... .......... .......... .......... 90%  537K 1s\n",
      " 12050K .......... .......... .......... .......... .......... 91% 1.44M 1s\n",
      " 12100K .......... .......... .......... .......... .......... 91% 2.78M 1s\n",
      " 12150K .......... .......... .......... .......... .......... 92% 3.28M 1s\n",
      " 12200K .......... .......... .......... .......... .......... 92% 3.59M 1s\n",
      " 12250K .......... .......... .......... .......... .......... 92% 2.10M 1s\n",
      " 12300K .......... .......... .......... .......... .......... 93%  397K 1s\n",
      " 12350K .......... .......... .......... .......... .......... 93% 5.33M 1s\n",
      " 12400K .......... .......... .......... .......... .......... 93% 5.79M 0s\n",
      " 12450K .......... .......... .......... .......... .......... 94% 2.18M 0s\n",
      " 12500K .......... .......... .......... .......... .......... 94% 1.70M 0s\n",
      " 12550K .......... .......... .......... .......... .......... 95%  547K 0s\n",
      " 12600K .......... .......... .......... .......... .......... 95% 1.37M 0s\n",
      " 12650K .......... .......... .......... .......... .......... 95% 3.64M 0s\n",
      " 12700K .......... .......... .......... .......... .......... 96% 5.22M 0s\n",
      " 12750K .......... .......... .......... .......... .......... 96% 2.75M 0s\n",
      " 12800K .......... .......... .......... .......... .......... 96% 1.81M 0s\n",
      " 12850K .......... .......... .......... .......... .......... 97%  418K 0s\n",
      " 12900K .......... .......... .......... .......... .......... 97% 2.04M 0s\n",
      " 12950K .......... .......... .......... .......... .......... 98% 25.9M 0s\n",
      " 13000K .......... .......... .......... .......... .......... 98% 3.97M 0s\n",
      " 13050K .......... .......... .......... .......... .......... 98% 2.67M 0s\n",
      " 13100K .......... .......... .......... .......... .......... 99% 2.08M 0s\n",
      " 13150K .......... .......... .......... .......... .......... 99%  406K 0s\n",
      " 13200K .......... .......... .......... .......... .......   100% 2.13M=8.1s\n",
      "\n",
      "2023-05-24 16:02:37 (1.59 MB/s) - 'jena_climate_2009_2016.csv.zip' saved [13565642/13565642]\n",
      "\n"
     ]
    },
    {
     "name": "stdout",
     "output_type": "stream",
     "text": [
      "Archive:  jena_climate_2009_2016.csv.zip\n",
      "  inflating: jena_climate_2009_2016.csv  \n",
      "  inflating: __MACOSX/._jena_climate_2009_2016.csv  \n"
     ]
    }
   ],
   "source": [
    "!wget https://s3.amazonaws.com/keras-datasets/jena_climate_2009_2016.csv.zip\n",
    "!unzip jena_climate_2009_2016.csv.zip"
   ]
  },
  {
   "cell_type": "code",
   "execution_count": 2,
   "id": "f4c4b8ab",
   "metadata": {},
   "outputs": [
    {
     "name": "stdout",
     "output_type": "stream",
     "text": [
      "['\"Date Time\"', '\"p (mbar)\"', '\"T (degC)\"', '\"Tpot (K)\"', '\"Tdew (degC)\"', '\"rh (%)\"', '\"VPmax (mbar)\"', '\"VPact (mbar)\"', '\"VPdef (mbar)\"', '\"sh (g/kg)\"', '\"H2OC (mmol/mol)\"', '\"rho (g/m**3)\"', '\"wv (m/s)\"', '\"max. wv (m/s)\"', '\"wd (deg)\"']\n",
      "420451\n"
     ]
    }
   ],
   "source": [
    "import os\n",
    "fname = os.path.join(\"jena_climate_2009_2016.csv\")\n",
    "\n",
    "with open(fname) as f:\n",
    "    data = f.read()\n",
    "\n",
    "lines = data.split(\"\\n\")\n",
    "header = lines[0].split(\",\")\n",
    "lines = lines[1:]\n",
    "print(header)\n",
    "print(len(lines))"
   ]
  },
  {
   "cell_type": "code",
   "execution_count": 3,
   "id": "389c697c",
   "metadata": {},
   "outputs": [],
   "source": [
    "import numpy as np\n",
    "temperature = np.zeros((len(lines),))\n",
    "raw_data = np.zeros((len(lines), len(header) - 1))\n",
    "for i, line in enumerate(lines):\n",
    "    values = [float(x) for x in line.split(\",\")[1:]]\n",
    "    temperature[i] = values[1]\n",
    "    raw_data[i, :] = values[:]"
   ]
  },
  {
   "cell_type": "code",
   "execution_count": 17,
   "id": "3b6d7276",
   "metadata": {},
   "outputs": [
    {
     "data": {
      "text/plain": [
       "(420451,)"
      ]
     },
     "execution_count": 17,
     "metadata": {},
     "output_type": "execute_result"
    }
   ],
   "source": [
    "temperature.shape"
   ]
  },
  {
   "cell_type": "code",
   "execution_count": 4,
   "id": "9f79c345",
   "metadata": {},
   "outputs": [
    {
     "data": {
      "image/png": "[encoded data removed]",
      "text/plain": [
       "<Figure size 640x480 with 1 Axes>"
      ]
     },
     "metadata": {},
     "output_type": "display_data"
    }
   ],
   "source": [
    "from matplotlib import pyplot as plt\n",
    "plt.plot(range(len(temperature)), temperature)\n",
    "plt.show()"
   ]
  },
  {
   "cell_type": "code",
   "execution_count": 5,
   "id": "602ebaa0",
   "metadata": {},
   "outputs": [
    {
     "data": {
      "image/png": "[encoded data removed]",
      "text/plain": [
       "<Figure size 640x480 with 1 Axes>"
      ]
     },
     "metadata": {},
     "output_type": "display_data"
    }
   ],
   "source": [
    "plt.plot(range(1440), temperature[:1440])\n",
    "plt.show()"
   ]
  },
  {
   "cell_type": "code",
   "execution_count": 6,
   "id": "cea70657",
   "metadata": {},
   "outputs": [
    {
     "name": "stdout",
     "output_type": "stream",
     "text": [
      "num_train_samples: 210225\n",
      "num_val_samples: 105112\n",
      "num_test_samples: 105114\n"
     ]
    }
   ],
   "source": [
    "num_train_samples = int(0.5 * len(raw_data))\n",
    "num_val_samples = int(0.25 * len(raw_data))\n",
    "num_test_samples = len(raw_data) - num_train_samples - num_val_samples\n",
    "print(\"num_train_samples:\", num_train_samples)\n",
    "print(\"num_val_samples:\", num_val_samples)\n",
    "print(\"num_test_samples:\", num_test_samples)"
   ]
  },
  {
   "cell_type": "code",
   "execution_count": 7,
   "id": "8174dfec",
   "metadata": {},
   "outputs": [],
   "source": [
    "mean = raw_data[:num_train_samples].mean(axis=0)\n",
    "raw_data -= mean\n",
    "std = raw_data[:num_train_samples].std(axis=0)\n",
    "raw_data /= std"
   ]
  },
  {
   "cell_type": "code",
   "execution_count": 5,
   "id": "4202cd5d",
   "metadata": {},
   "outputs": [
    {
     "name": "stdout",
     "output_type": "stream",
     "text": [
      "[0, 1, 2] 3 0\n",
      "[1, 2, 3] 4 1\n",
      "[2, 3, 4] 5 0\n",
      "[3, 4, 5] 6 1\n",
      "[4, 5, 6] 7 0\n"
     ]
    }
   ],
   "source": [
    "import numpy as np\n",
    "from tensorflow import keras\n",
    "int_sequence = np.arange(10)\n",
    "dummy_dataset = keras.utils.timeseries_dataset_from_array(\n",
    "    data=int_sequence[:-3],\n",
    "    targets=int_sequence[3:],\n",
    "    sequence_length=3,\n",
    "    batch_size=2,\n",
    ")\n",
    "\n",
    "for inputs, targets in dummy_dataset:\n",
    "    for i in range(inputs.shape[0]):\n",
    "        print([int(x) for x in inputs[i]], int(targets[i]), i)"
   ]
  },
  {
   "cell_type": "code",
   "execution_count": 10,
   "id": "7bcf6ac3",
   "metadata": {},
   "outputs": [],
   "source": [
    "sampling_rate = 6\n",
    "sequence_length = 120\n",
    "delay = sampling_rate * (sequence_length + 24 - 1) + 1\n",
    "batch_size = 256\n",
    "\n",
    "train_dataset = keras.utils.timeseries_dataset_from_array(\n",
    "    raw_data[:-delay],\n",
    "    targets=temperature[delay:],\n",
    "    sampling_rate=sampling_rate,\n",
    "    sequence_length=sequence_length,\n",
    "    shuffle=True,\n",
    "    batch_size=batch_size,\n",
    "    start_index=0,\n",
    "    end_index=num_train_samples)\n",
    "\n",
    "val_dataset = keras.utils.timeseries_dataset_from_array(\n",
    "    raw_data[:-delay],\n",
    "    targets=temperature[delay:],\n",
    "    sampling_rate=sampling_rate,\n",
    "    sequence_length=sequence_length,\n",
    "    shuffle=True,\n",
    "    batch_size=batch_size,\n",
    "    start_index=num_train_samples,\n",
    "    end_index=num_train_samples + num_val_samples)\n",
    "\n",
    "test_dataset = keras.utils.timeseries_dataset_from_array(\n",
    "    raw_data[:-delay],\n",
    "    targets=temperature[delay:],\n",
    "    sampling_rate=sampling_rate,\n",
    "    sequence_length=sequence_length,\n",
    "    shuffle=True,\n",
    "    batch_size=batch_size,\n",
    "    start_index=num_train_samples + num_val_samples)"
   ]
  },
  {
   "cell_type": "code",
   "execution_count": 19,
   "id": "010ce816",
   "metadata": {},
   "outputs": [
    {
     "data": {
      "text/plain": [
       "(420451, 14)"
      ]
     },
     "execution_count": 19,
     "metadata": {},
     "output_type": "execute_result"
    }
   ],
   "source": [
    "raw_data.shape"
   ]
  },
  {
   "cell_type": "code",
   "execution_count": 21,
   "id": "67a09840",
   "metadata": {},
   "outputs": [
    {
     "ename": "TypeError",
     "evalue": "'BatchDataset' object is not subscriptable",
     "output_type": "error",
     "traceback": [
      "\u001b[1;31m---------------------------------------------------------------------------\u001b[0m",
      "\u001b[1;31mTypeError\u001b[0m                                 Traceback (most recent call last)",
      "Cell \u001b[1;32mIn[21], line 1\u001b[0m\n\u001b[1;32m----> 1\u001b[0m \u001b[43mval_dataset\u001b[49m\u001b[43m[\u001b[49m\u001b[38;5;124;43m'\u001b[39;49m\u001b[38;5;124;43mtargets\u001b[39;49m\u001b[38;5;124;43m'\u001b[39;49m\u001b[43m]\u001b[49m\n",
      "\u001b[1;31mTypeError\u001b[0m: 'BatchDataset' object is not subscriptable"
     ]
    }
   ],
   "source": [
    "val_dataset['targets']"
   ]
  },
  {
   "cell_type": "code",
   "execution_count": 11,
   "id": "150b6b0d",
   "metadata": {},
   "outputs": [
    {
     "name": "stdout",
     "output_type": "stream",
     "text": [
      "샘플 크기: (256, 120, 14)\n",
      "타깃 크기: (256,)\n"
     ]
    }
   ],
   "source": [
    "for samples, targets in train_dataset:\n",
    "    print(\"샘플 크기:\", samples.shape)\n",
    "    print(\"타깃 크기:\", targets.shape)\n",
    "    break"
   ]
  },
  {
   "cell_type": "code",
   "execution_count": 12,
   "id": "58405b0e",
   "metadata": {},
   "outputs": [
    {
     "name": "stdout",
     "output_type": "stream",
     "text": [
      "검증 MAE: 2.45\n",
      "테스트 MAE: 2.63\n"
     ]
    }
   ],
   "source": [
    "def evaluate_naive_method(dataset):\n",
    "    total_abs_err = 0.\n",
    "    samples_seen = 0\n",
    "    for samples, targets in dataset:\n",
    "        preds = samples[:, -1, 1] * std[1] + mean[1]\n",
    "        total_abs_err += np.sum(np.abs(preds - targets))\n",
    "        samples_seen += samples.shape[0]\n",
    "    return total_abs_err / samples_seen\n",
    "\n",
    "print(f\"검증 MAE: {evaluate_naive_method(val_dataset):.2f}\")\n",
    "print(f\"테스트 MAE: {evaluate_naive_method(test_dataset):.2f}\")"
   ]
  },
  {
   "cell_type": "code",
   "execution_count": 13,
   "id": "6c4dc4f0",
   "metadata": {},
   "outputs": [
    {
     "name": "stdout",
     "output_type": "stream",
     "text": [
      "Epoch 1/10\n",
      "819/819 [==============================] - 19s 22ms/step - loss: 12.4964 - mae: 2.7405 - val_loss: 14.3824 - val_mae: 3.0066\n",
      "Epoch 2/10\n",
      "819/819 [==============================] - 18s 22ms/step - loss: 9.0124 - mae: 2.3627 - val_loss: 10.4423 - val_mae: 2.5326\n",
      "Epoch 3/10\n",
      "819/819 [==============================] - 19s 23ms/step - loss: 8.3340 - mae: 2.2743 - val_loss: 11.2893 - val_mae: 2.6501\n",
      "Epoch 4/10\n",
      "819/819 [==============================] - 20s 24ms/step - loss: 7.8669 - mae: 2.2110 - val_loss: 11.1853 - val_mae: 2.6327\n",
      "Epoch 5/10\n",
      "819/819 [==============================] - 21s 26ms/step - loss: 7.5314 - mae: 2.1661 - val_loss: 11.2501 - val_mae: 2.6484\n",
      "Epoch 6/10\n",
      "819/819 [==============================] - 23s 28ms/step - loss: 7.2662 - mae: 2.1273 - val_loss: 10.7765 - val_mae: 2.5831\n",
      "Epoch 7/10\n",
      "819/819 [==============================] - 22s 27ms/step - loss: 7.0541 - mae: 2.0979 - val_loss: 12.1533 - val_mae: 2.7536\n",
      "Epoch 8/10\n",
      "819/819 [==============================] - 21s 25ms/step - loss: 6.8619 - mae: 2.0700 - val_loss: 10.9594 - val_mae: 2.6078\n",
      "Epoch 9/10\n",
      "819/819 [==============================] - 20s 24ms/step - loss: 6.7421 - mae: 2.0521 - val_loss: 11.8790 - val_mae: 2.7169\n",
      "Epoch 10/10\n",
      "819/819 [==============================] - 21s 26ms/step - loss: 6.5933 - mae: 2.0314 - val_loss: 11.4669 - val_mae: 2.6607\n",
      "405/405 [==============================] - 7s 17ms/step - loss: 12.2167 - mae: 2.7458\n",
      "테스트 MAE: 2.75\n"
     ]
    }
   ],
   "source": [
    "# 기본 딥러닝 모델을 사용한 예측\n",
    "from tensorflow import keras\n",
    "from tensorflow.keras import layers\n",
    "\n",
    "inputs = keras.Input(shape=(sequence_length, raw_data.shape[-1]))\n",
    "x = layers.Flatten()(inputs)\n",
    "x = layers.Dense(16, activation=\"relu\")(x)\n",
    "outputs = layers.Dense(1)(x)\n",
    "model = keras.Model(inputs, outputs)\n",
    "\n",
    "callbacks = [\n",
    "    keras.callbacks.ModelCheckpoint(\"jena_dense.keras\",\n",
    "                                    save_best_only=True)\n",
    "]\n",
    "model.compile(optimizer=\"rmsprop\", loss=\"mse\", metrics=[\"mae\"])\n",
    "history = model.fit(train_dataset,\n",
    "                    epochs=10,\n",
    "                    validation_data=val_dataset,\n",
    "                    callbacks=callbacks)\n",
    "\n",
    "model = keras.models.load_model(\"jena_dense.keras\")\n",
    "print(f\"테스트 MAE: {model.evaluate(test_dataset)[1]:.2f}\")"
   ]
  },
  {
   "cell_type": "code",
   "execution_count": 14,
   "id": "11cc161f",
   "metadata": {},
   "outputs": [
    {
     "data": {
      "image/png": "[encoded data removed]",
      "text/plain": [
       "<Figure size 640x480 with 1 Axes>"
      ]
     },
     "metadata": {},
     "output_type": "display_data"
    }
   ],
   "source": [
    "import matplotlib.pyplot as plt\n",
    "loss = history.history[\"mae\"]\n",
    "val_loss = history.history[\"val_mae\"]\n",
    "epochs = range(1, len(loss) + 1)\n",
    "plt.figure()\n",
    "plt.plot(epochs, loss, \"bo\", label=\"Training MAE\")\n",
    "plt.plot(epochs, val_loss, \"b\", label=\"Validation MAE\")\n",
    "plt.title(\"Training and validation MAE\")\n",
    "plt.legend()\n",
    "plt.show()"
   ]
  },
  {
   "cell_type": "markdown",
   "id": "2ed7c611",
   "metadata": {},
   "source": [
    "# 1D 합성공 모델 사용"
   ]
  },
  {
   "cell_type": "code",
   "execution_count": 15,
   "id": "e09d76ea",
   "metadata": {},
   "outputs": [
    {
     "name": "stdout",
     "output_type": "stream",
     "text": [
      "Epoch 1/10\n",
      "819/819 [==============================] - 35s 41ms/step - loss: 20.3142 - mae: 3.5515 - val_loss: 17.0541 - val_mae: 3.2988\n",
      "Epoch 2/10\n",
      "819/819 [==============================] - 36s 44ms/step - loss: 14.9893 - mae: 3.0783 - val_loss: 17.8710 - val_mae: 3.3590\n",
      "Epoch 3/10\n",
      "819/819 [==============================] - 37s 46ms/step - loss: 13.5620 - mae: 2.9248 - val_loss: 14.0655 - val_mae: 2.9585\n",
      "Epoch 4/10\n",
      "819/819 [==============================] - 39s 47ms/step - loss: 12.5854 - mae: 2.8161 - val_loss: 14.9549 - val_mae: 3.0440\n",
      "Epoch 5/10\n",
      "819/819 [==============================] - 40s 49ms/step - loss: 12.0288 - mae: 2.7522 - val_loss: 14.0047 - val_mae: 2.9569\n",
      "Epoch 6/10\n",
      "819/819 [==============================] - 39s 47ms/step - loss: 11.5632 - mae: 2.6987 - val_loss: 14.7915 - val_mae: 3.0372\n",
      "Epoch 7/10\n",
      "819/819 [==============================] - 41s 49ms/step - loss: 11.1955 - mae: 2.6528 - val_loss: 13.6557 - val_mae: 2.9021\n",
      "Epoch 8/10\n",
      "819/819 [==============================] - 40s 49ms/step - loss: 10.8597 - mae: 2.6123 - val_loss: 17.0061 - val_mae: 3.2802\n",
      "Epoch 9/10\n",
      "819/819 [==============================] - 43s 53ms/step - loss: 10.5507 - mae: 2.5744 - val_loss: 14.5059 - val_mae: 3.0091\n",
      "Epoch 10/10\n",
      "819/819 [==============================] - 39s 47ms/step - loss: 10.2515 - mae: 2.5368 - val_loss: 18.4859 - val_mae: 3.4176\n",
      "405/405 [==============================] - 9s 21ms/step - loss: 14.5505 - mae: 2.9818\n",
      "테스트 MAE: 2.98\n"
     ]
    }
   ],
   "source": [
    "inputs = keras.Input(shape=(sequence_length, raw_data.shape[-1]))\n",
    "x = layers.Conv1D(8, 24, activation=\"relu\")(inputs)\n",
    "x = layers.MaxPooling1D(2)(x)\n",
    "x = layers.Conv1D(8, 12, activation=\"relu\")(x)\n",
    "x = layers.MaxPooling1D(2)(x)\n",
    "x = layers.Conv1D(8, 6, activation=\"relu\")(x)\n",
    "x = layers.GlobalAveragePooling1D()(x)\n",
    "outputs = layers.Dense(1)(x)\n",
    "model = keras.Model(inputs, outputs)\n",
    "\n",
    "callbacks = [\n",
    "    keras.callbacks.ModelCheckpoint(\"jena_conv.keras\",\n",
    "                                    save_best_only=True)\n",
    "]\n",
    "model.compile(optimizer=\"rmsprop\", loss=\"mse\", metrics=[\"mae\"])\n",
    "history = model.fit(train_dataset,\n",
    "                    epochs=10,\n",
    "                    validation_data=val_dataset,\n",
    "                    callbacks=callbacks)\n",
    "\n",
    "model = keras.models.load_model(\"jena_conv.keras\")\n",
    "print(f\"테스트 MAE: {model.evaluate(test_dataset)[1]:.2f}\")"
   ]
  },
  {
   "cell_type": "code",
   "execution_count": null,
   "id": "c451a721",
   "metadata": {},
   "outputs": [],
   "source": []
  },
  {
   "cell_type": "code",
   "execution_count": null,
   "id": "470d92c7",
   "metadata": {},
   "outputs": [],
   "source": []
  },
  {
   "cell_type": "code",
   "execution_count": null,
   "id": "8fb7b053",
   "metadata": {},
   "outputs": [],
   "source": []
  }
 ],
 "metadata": {
  "kernelspec": {
   "display_name": "Python 3 (ipykernel)",
   "language": "python",
   "name": "python3"
  },
  "language_info": {
   "codemirror_mode": {
    "name": "ipython",
    "version": 3
   },
   "file_extension": ".py",
   "mimetype": "text/x-python",
   "name": "python",
   "nbconvert_exporter": "python",
   "pygments_lexer": "ipython3",
   "version": "3.9.16"
  }
 },
 "nbformat": 4,
 "nbformat_minor": 5
}
