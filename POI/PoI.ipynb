{
 "cells": [
  {
   "cell_type": "code",
   "execution_count": 2,
   "id": "86b1b5ac",
   "metadata": {},
   "outputs": [
    {
     "name": "stdout",
     "output_type": "stream",
     "text": [
      "Collecting sidetable\n",
      "  Downloading sidetable-0.9.1-py3-none-any.whl (19 kB)\n",
      "Requirement already satisfied: pandas>=1.0 in c:\\users\\procns\\anaconda3\\lib\\site-packages (from sidetable) (1.4.4)\n",
      "Requirement already satisfied: pytz>=2020.1 in c:\\users\\procns\\anaconda3\\lib\\site-packages (from pandas>=1.0->sidetable) (2022.1)\n",
      "Requirement already satisfied: python-dateutil>=2.8.1 in c:\\users\\procns\\anaconda3\\lib\\site-packages (from pandas>=1.0->sidetable) (2.8.2)\n",
      "Requirement already satisfied: numpy>=1.18.5 in c:\\users\\procns\\anaconda3\\lib\\site-packages (from pandas>=1.0->sidetable) (1.21.5)\n",
      "Requirement already satisfied: six>=1.5 in c:\\users\\procns\\anaconda3\\lib\\site-packages (from python-dateutil>=2.8.1->pandas>=1.0->sidetable) (1.16.0)\n",
      "Installing collected packages: sidetable\n",
      "Successfully installed sidetable-0.9.1\n"
     ]
    }
   ],
   "source": [
    "!pip install sidetable\n",
    "import pandas as pd\n",
    "import numpy as np \n",
    "import seaborn as sns\n",
    "import matplotlib.pyplot as plt \n",
    "import sidetable\n",
    "import scipy.cluster.hierarchy as sch\n",
    "from sklearn.cluster import AgglomerativeClustering\n",
    "from scipy.cluster.hierarchy import dendrogram, linkage\n",
    "from sklearn.preprocessing import StandardScaler\n",
    "from sklearn.cluster import KMeans\n",
    "from sklearn.preprocessing import LabelEncoder"
   ]
  },
  {
   "cell_type": "code",
   "execution_count": 6,
   "id": "98a1a8d1",
   "metadata": {},
   "outputs": [
    {
     "data": {
      "text/html": [
       "<div>\n",
       "<style scoped>\n",
       "    .dataframe tbody tr th:only-of-type {\n",
       "        vertical-align: middle;\n",
       "    }\n",
       "\n",
       "    .dataframe tbody tr th {\n",
       "        vertical-align: top;\n",
       "    }\n",
       "\n",
       "    .dataframe thead th {\n",
       "        text-align: right;\n",
       "    }\n",
       "</style>\n",
       "<table border=\"1\" class=\"dataframe\">\n",
       "  <thead>\n",
       "    <tr style=\"text-align: right;\">\n",
       "      <th></th>\n",
       "      <th>avg_ipt</th>\n",
       "      <th>bytes_in</th>\n",
       "      <th>bytes_out</th>\n",
       "      <th>dest_ip</th>\n",
       "      <th>dest_port</th>\n",
       "      <th>entropy</th>\n",
       "      <th>num_pkts_out</th>\n",
       "      <th>num_pkts_in</th>\n",
       "      <th>proto</th>\n",
       "      <th>src_ip</th>\n",
       "      <th>src_port</th>\n",
       "      <th>time_end</th>\n",
       "      <th>time_start</th>\n",
       "      <th>total_entropy</th>\n",
       "      <th>label</th>\n",
       "      <th>duration</th>\n",
       "    </tr>\n",
       "  </thead>\n",
       "  <tbody>\n",
       "    <tr>\n",
       "      <th>0</th>\n",
       "      <td>193.750000</td>\n",
       "      <td>270</td>\n",
       "      <td>191</td>\n",
       "      <td>786</td>\n",
       "      <td>445.0</td>\n",
       "      <td>4.600684</td>\n",
       "      <td>6</td>\n",
       "      <td>6</td>\n",
       "      <td>6</td>\n",
       "      <td>786</td>\n",
       "      <td>60548.0</td>\n",
       "      <td>1611103133422618</td>\n",
       "      <td>1611103132188772</td>\n",
       "      <td>2120.91530</td>\n",
       "      <td>malicious</td>\n",
       "      <td>1.233846</td>\n",
       "    </tr>\n",
       "    <tr>\n",
       "      <th>1</th>\n",
       "      <td>5.000000</td>\n",
       "      <td>48</td>\n",
       "      <td>48</td>\n",
       "      <td>786</td>\n",
       "      <td>123.0</td>\n",
       "      <td>4.999620</td>\n",
       "      <td>1</td>\n",
       "      <td>1</td>\n",
       "      <td>17</td>\n",
       "      <td>786</td>\n",
       "      <td>123.0</td>\n",
       "      <td>1611103133548769</td>\n",
       "      <td>1611103133538447</td>\n",
       "      <td>479.96356</td>\n",
       "      <td>outlier</td>\n",
       "      <td>0.010322</td>\n",
       "    </tr>\n",
       "    <tr>\n",
       "      <th>2</th>\n",
       "      <td>93.250000</td>\n",
       "      <td>1443</td>\n",
       "      <td>1176</td>\n",
       "      <td>786</td>\n",
       "      <td>22.0</td>\n",
       "      <td>6.803977</td>\n",
       "      <td>12</td>\n",
       "      <td>14</td>\n",
       "      <td>6</td>\n",
       "      <td>786</td>\n",
       "      <td>30002.0</td>\n",
       "      <td>1611103135304654</td>\n",
       "      <td>1611103134149529</td>\n",
       "      <td>17819.61500</td>\n",
       "      <td>malicious</td>\n",
       "      <td>1.155125</td>\n",
       "    </tr>\n",
       "    <tr>\n",
       "      <th>3</th>\n",
       "      <td>337.400000</td>\n",
       "      <td>1036</td>\n",
       "      <td>14727</td>\n",
       "      <td>786</td>\n",
       "      <td>9200.0</td>\n",
       "      <td>2.421072</td>\n",
       "      <td>15</td>\n",
       "      <td>6</td>\n",
       "      <td>6</td>\n",
       "      <td>786</td>\n",
       "      <td>39398.0</td>\n",
       "      <td>1611103137511772</td>\n",
       "      <td>1611103132447</td>\n",
       "      <td>38163.36300</td>\n",
       "      <td>benign</td>\n",
       "      <td>5.064772</td>\n",
       "    </tr>\n",
       "    <tr>\n",
       "      <th>4</th>\n",
       "      <td>347.974359</td>\n",
       "      <td>9638</td>\n",
       "      <td>30948</td>\n",
       "      <td>786</td>\n",
       "      <td>9200.0</td>\n",
       "      <td>2.704629</td>\n",
       "      <td>156</td>\n",
       "      <td>86</td>\n",
       "      <td>6</td>\n",
       "      <td>786</td>\n",
       "      <td>39370.0</td>\n",
       "      <td>1611103139493602</td>\n",
       "      <td>1611103112328925</td>\n",
       "      <td>109770.08000</td>\n",
       "      <td>benign</td>\n",
       "      <td>27.164677</td>\n",
       "    </tr>\n",
       "  </tbody>\n",
       "</table>\n",
       "</div>"
      ],
      "text/plain": [
       "      avg_ipt  bytes_in  bytes_out  dest_ip  dest_port   entropy  \\\n",
       "0  193.750000       270        191      786      445.0  4.600684   \n",
       "1    5.000000        48         48      786      123.0  4.999620   \n",
       "2   93.250000      1443       1176      786       22.0  6.803977   \n",
       "3  337.400000      1036      14727      786     9200.0  2.421072   \n",
       "4  347.974359      9638      30948      786     9200.0  2.704629   \n",
       "\n",
       "   num_pkts_out  num_pkts_in  proto  src_ip  src_port          time_end  \\\n",
       "0             6            6      6     786   60548.0  1611103133422618   \n",
       "1             1            1     17     786     123.0  1611103133548769   \n",
       "2            12           14      6     786   30002.0  1611103135304654   \n",
       "3            15            6      6     786   39398.0  1611103137511772   \n",
       "4           156           86      6     786   39370.0  1611103139493602   \n",
       "\n",
       "         time_start  total_entropy      label   duration  \n",
       "0  1611103132188772     2120.91530  malicious   1.233846  \n",
       "1  1611103133538447      479.96356    outlier   0.010322  \n",
       "2  1611103134149529    17819.61500  malicious   1.155125  \n",
       "3     1611103132447    38163.36300     benign   5.064772  \n",
       "4  1611103112328925   109770.08000     benign  27.164677  "
      ]
     },
     "execution_count": 6,
     "metadata": {},
     "output_type": "execute_result"
    }
   ],
   "source": [
    "# read an example file - 2020/10/01\n",
    "df = pd.read_csv(\"C:/Users/procns/Desktop/인공지능/PoI\\kaggle/2021.01.20.csv\")\n",
    "# first glance\n",
    "df.head()"
   ]
  },
  {
   "cell_type": "code",
   "execution_count": 7,
   "id": "bdf48989",
   "metadata": {},
   "outputs": [
    {
     "name": "stdout",
     "output_type": "stream",
     "text": [
      "<class 'pandas.core.frame.DataFrame'>\n",
      "RangeIndex: 364477 entries, 0 to 364476\n",
      "Data columns (total 16 columns):\n",
      " #   Column         Non-Null Count   Dtype  \n",
      "---  ------         --------------   -----  \n",
      " 0   avg_ipt        364477 non-null  float64\n",
      " 1   bytes_in       364477 non-null  int64  \n",
      " 2   bytes_out      364477 non-null  int64  \n",
      " 3   dest_ip        364477 non-null  int64  \n",
      " 4   dest_port      333002 non-null  float64\n",
      " 5   entropy        364477 non-null  float64\n",
      " 6   num_pkts_out   364477 non-null  int64  \n",
      " 7   num_pkts_in    364477 non-null  int64  \n",
      " 8   proto          364477 non-null  int64  \n",
      " 9   src_ip         364477 non-null  int64  \n",
      " 10  src_port       333002 non-null  float64\n",
      " 11  time_end       364477 non-null  int64  \n",
      " 12  time_start     364477 non-null  int64  \n",
      " 13  total_entropy  364477 non-null  float64\n",
      " 14  label          364477 non-null  object \n",
      " 15  duration       364477 non-null  float64\n",
      "dtypes: float64(6), int64(9), object(1)\n",
      "memory usage: 44.5+ MB\n"
     ]
    }
   ],
   "source": [
    "df.info()"
   ]
  },
  {
   "cell_type": "code",
   "execution_count": 8,
   "id": "d19f5606",
   "metadata": {},
   "outputs": [
    {
     "data": {
      "text/plain": [
       "avg_ipt          0.000000\n",
       "bytes_in         0.000000\n",
       "bytes_out        0.000000\n",
       "dest_ip          0.000000\n",
       "dest_port        8.635662\n",
       "entropy          0.000000\n",
       "num_pkts_out     0.000000\n",
       "num_pkts_in      0.000000\n",
       "proto            0.000000\n",
       "src_ip           0.000000\n",
       "src_port         8.635662\n",
       "time_end         0.000000\n",
       "time_start       0.000000\n",
       "total_entropy    0.000000\n",
       "label            0.000000\n",
       "duration         0.000000\n",
       "dtype: float64"
      ]
     },
     "execution_count": 8,
     "metadata": {},
     "output_type": "execute_result"
    }
   ],
   "source": [
    "df.isna().mean()*100"
   ]
  },
  {
   "cell_type": "code",
   "execution_count": 9,
   "id": "75e6a088",
   "metadata": {},
   "outputs": [],
   "source": [
    "df.dropna(axis=0,inplace=True,how=\"any\")"
   ]
  },
  {
   "cell_type": "code",
   "execution_count": 12,
   "id": "47bd144e",
   "metadata": {},
   "outputs": [
    {
     "name": "stdout",
     "output_type": "stream",
     "text": [
      "<class 'pandas.core.frame.DataFrame'>\n",
      "Int64Index: 333002 entries, 0 to 364475\n",
      "Data columns (total 16 columns):\n",
      " #   Column         Non-Null Count   Dtype  \n",
      "---  ------         --------------   -----  \n",
      " 0   avg_ipt        333002 non-null  float64\n",
      " 1   bytes_in       333002 non-null  int64  \n",
      " 2   bytes_out      333002 non-null  int64  \n",
      " 3   dest_ip        333002 non-null  int64  \n",
      " 4   dest_port      333002 non-null  float64\n",
      " 5   entropy        333002 non-null  float64\n",
      " 6   num_pkts_out   333002 non-null  int64  \n",
      " 7   num_pkts_in    333002 non-null  int64  \n",
      " 8   proto          333002 non-null  int64  \n",
      " 9   src_ip         333002 non-null  int64  \n",
      " 10  src_port       333002 non-null  float64\n",
      " 11  time_end       333002 non-null  int64  \n",
      " 12  time_start     333002 non-null  int64  \n",
      " 13  total_entropy  333002 non-null  float64\n",
      " 14  label          333002 non-null  object \n",
      " 15  duration       333002 non-null  float64\n",
      "dtypes: float64(6), int64(9), object(1)\n",
      "memory usage: 43.2+ MB\n"
     ]
    }
   ],
   "source": [
    "df.info()"
   ]
  },
  {
   "cell_type": "code",
   "execution_count": 13,
   "id": "2f547a28",
   "metadata": {
    "scrolled": true
   },
   "outputs": [
    {
     "data": {
      "text/plain": [
       "avg_ipt           21403\n",
       "bytes_in           9133\n",
       "bytes_out         21899\n",
       "dest_ip               1\n",
       "dest_port         17440\n",
       "entropy          173100\n",
       "num_pkts_out        256\n",
       "num_pkts_in         243\n",
       "proto                 2\n",
       "src_ip                1\n",
       "src_port          31510\n",
       "time_end         330227\n",
       "time_start       330222\n",
       "total_entropy    177796\n",
       "label                 3\n",
       "duration          92192\n",
       "dtype: int64"
      ]
     },
     "execution_count": 13,
     "metadata": {},
     "output_type": "execute_result"
    }
   ],
   "source": [
    "df.nunique()"
   ]
  },
  {
   "cell_type": "code",
   "execution_count": 19,
   "id": "17ddce69",
   "metadata": {},
   "outputs": [
    {
     "data": {
      "text/plain": [
       "<AxesSubplot:>"
      ]
     },
     "execution_count": 19,
     "metadata": {},
     "output_type": "execute_result"
    },
    {
     "data": {
      "image/png": "[encoded data removed]",
      "text/plain": [
       "<Figure size 2500x1000 with 2 Axes>"
      ]
     },
     "metadata": {},
     "output_type": "display_data"
    }
   ],
   "source": [
    "import missingno as msno\n",
    "%matplotlib inline\n",
    "msno.matrix(df)"
   ]
  },
  {
   "cell_type": "code",
   "execution_count": 18,
   "id": "2750c55d",
   "metadata": {},
   "outputs": [
    {
     "name": "stdout",
     "output_type": "stream",
     "text": [
      "Collecting missingno\n",
      "  Downloading missingno-0.5.1-py3-none-any.whl (8.7 kB)\n",
      "Requirement already satisfied: matplotlib in c:\\users\\procns\\anaconda3\\lib\\site-packages (from missingno) (3.5.2)\n",
      "Requirement already satisfied: numpy in c:\\users\\procns\\anaconda3\\lib\\site-packages (from missingno) (1.21.5)\n",
      "Requirement already satisfied: scipy in c:\\users\\procns\\anaconda3\\lib\\site-packages (from missingno) (1.9.1)\n",
      "Requirement already satisfied: seaborn in c:\\users\\procns\\anaconda3\\lib\\site-packages (from missingno) (0.11.2)\n",
      "Requirement already satisfied: kiwisolver>=1.0.1 in c:\\users\\procns\\anaconda3\\lib\\site-packages (from matplotlib->missingno) (1.4.2)\n",
      "Requirement already satisfied: pyparsing>=2.2.1 in c:\\users\\procns\\anaconda3\\lib\\site-packages (from matplotlib->missingno) (3.0.9)\n",
      "Requirement already satisfied: fonttools>=4.22.0 in c:\\users\\procns\\anaconda3\\lib\\site-packages (from matplotlib->missingno) (4.25.0)\n",
      "Requirement already satisfied: pillow>=6.2.0 in c:\\users\\procns\\anaconda3\\lib\\site-packages (from matplotlib->missingno) (9.2.0)\n",
      "Requirement already satisfied: packaging>=20.0 in c:\\users\\procns\\anaconda3\\lib\\site-packages (from matplotlib->missingno) (21.3)\n",
      "Requirement already satisfied: python-dateutil>=2.7 in c:\\users\\procns\\anaconda3\\lib\\site-packages (from matplotlib->missingno) (2.8.2)\n",
      "Requirement already satisfied: cycler>=0.10 in c:\\users\\procns\\anaconda3\\lib\\site-packages (from matplotlib->missingno) (0.11.0)\n",
      "Requirement already satisfied: pandas>=0.23 in c:\\users\\procns\\anaconda3\\lib\\site-packages (from seaborn->missingno) (1.4.4)\n",
      "Requirement already satisfied: pytz>=2020.1 in c:\\users\\procns\\anaconda3\\lib\\site-packages (from pandas>=0.23->seaborn->missingno) (2022.1)\n",
      "Requirement already satisfied: six>=1.5 in c:\\users\\procns\\anaconda3\\lib\\site-packages (from python-dateutil>=2.7->matplotlib->missingno) (1.16.0)\n",
      "Installing collected packages: missingno\n",
      "Successfully installed missingno-0.5.1\n"
     ]
    }
   ],
   "source": [
    " !pip install missingno"
   ]
  },
  {
   "cell_type": "code",
   "execution_count": 20,
   "id": "5c1fcbde",
   "metadata": {},
   "outputs": [],
   "source": [
    "df.drop([\"src_ip\",\"dest_ip\",\"time_end\",\"time_start\"],axis=1,inplace=True)"
   ]
  },
  {
   "cell_type": "code",
   "execution_count": 21,
   "id": "1bbe0d7d",
   "metadata": {},
   "outputs": [
    {
     "data": {
      "text/plain": [
       "avg_ipt          333002\n",
       "bytes_in         333002\n",
       "bytes_out        333002\n",
       "dest_port        333002\n",
       "entropy          333002\n",
       "num_pkts_out     333002\n",
       "num_pkts_in      333002\n",
       "proto            333002\n",
       "src_port         333002\n",
       "total_entropy    333002\n",
       "label            333002\n",
       "duration         333002\n",
       "dtype: int64"
      ]
     },
     "execution_count": 21,
     "metadata": {},
     "output_type": "execute_result"
    }
   ],
   "source": [
    "df.count()"
   ]
  },
  {
   "cell_type": "code",
   "execution_count": 22,
   "id": "c4848fbc",
   "metadata": {},
   "outputs": [
    {
     "data": {
      "text/html": [
       "<div>\n",
       "<style scoped>\n",
       "    .dataframe tbody tr th:only-of-type {\n",
       "        vertical-align: middle;\n",
       "    }\n",
       "\n",
       "    .dataframe tbody tr th {\n",
       "        vertical-align: top;\n",
       "    }\n",
       "\n",
       "    .dataframe thead th {\n",
       "        text-align: right;\n",
       "    }\n",
       "</style>\n",
       "<table border=\"1\" class=\"dataframe\">\n",
       "  <thead>\n",
       "    <tr style=\"text-align: right;\">\n",
       "      <th></th>\n",
       "      <th>avg_ipt</th>\n",
       "      <th>bytes_in</th>\n",
       "      <th>bytes_out</th>\n",
       "      <th>dest_port</th>\n",
       "      <th>entropy</th>\n",
       "      <th>num_pkts_out</th>\n",
       "      <th>num_pkts_in</th>\n",
       "      <th>proto</th>\n",
       "      <th>src_port</th>\n",
       "      <th>total_entropy</th>\n",
       "      <th>duration</th>\n",
       "    </tr>\n",
       "  </thead>\n",
       "  <tbody>\n",
       "    <tr>\n",
       "      <th>avg_ipt</th>\n",
       "      <td>1.000000</td>\n",
       "      <td>0.016506</td>\n",
       "      <td>0.036688</td>\n",
       "      <td>-0.025773</td>\n",
       "      <td>0.047447</td>\n",
       "      <td>0.007565</td>\n",
       "      <td>0.023645</td>\n",
       "      <td>-0.011875</td>\n",
       "      <td>0.028225</td>\n",
       "      <td>0.033202</td>\n",
       "      <td>0.012682</td>\n",
       "    </tr>\n",
       "    <tr>\n",
       "      <th>bytes_in</th>\n",
       "      <td>0.016506</td>\n",
       "      <td>1.000000</td>\n",
       "      <td>0.379605</td>\n",
       "      <td>0.054804</td>\n",
       "      <td>0.055321</td>\n",
       "      <td>0.670222</td>\n",
       "      <td>0.743087</td>\n",
       "      <td>0.019266</td>\n",
       "      <td>-0.046718</td>\n",
       "      <td>0.657075</td>\n",
       "      <td>0.169166</td>\n",
       "    </tr>\n",
       "    <tr>\n",
       "      <th>bytes_out</th>\n",
       "      <td>0.036688</td>\n",
       "      <td>0.379605</td>\n",
       "      <td>1.000000</td>\n",
       "      <td>-0.205261</td>\n",
       "      <td>-0.061063</td>\n",
       "      <td>0.589330</td>\n",
       "      <td>0.525090</td>\n",
       "      <td>-0.082191</td>\n",
       "      <td>0.207321</td>\n",
       "      <td>0.755990</td>\n",
       "      <td>0.153517</td>\n",
       "    </tr>\n",
       "    <tr>\n",
       "      <th>dest_port</th>\n",
       "      <td>-0.025773</td>\n",
       "      <td>0.054804</td>\n",
       "      <td>-0.205261</td>\n",
       "      <td>1.000000</td>\n",
       "      <td>-0.214244</td>\n",
       "      <td>-0.117542</td>\n",
       "      <td>-0.120658</td>\n",
       "      <td>-0.136499</td>\n",
       "      <td>-0.702599</td>\n",
       "      <td>-0.177719</td>\n",
       "      <td>-0.028684</td>\n",
       "    </tr>\n",
       "    <tr>\n",
       "      <th>entropy</th>\n",
       "      <td>0.047447</td>\n",
       "      <td>0.055321</td>\n",
       "      <td>-0.061063</td>\n",
       "      <td>-0.214244</td>\n",
       "      <td>1.000000</td>\n",
       "      <td>0.049778</td>\n",
       "      <td>0.088160</td>\n",
       "      <td>0.077371</td>\n",
       "      <td>0.156251</td>\n",
       "      <td>0.139987</td>\n",
       "      <td>0.000879</td>\n",
       "    </tr>\n",
       "    <tr>\n",
       "      <th>num_pkts_out</th>\n",
       "      <td>0.007565</td>\n",
       "      <td>0.670222</td>\n",
       "      <td>0.589330</td>\n",
       "      <td>-0.117542</td>\n",
       "      <td>0.049778</td>\n",
       "      <td>1.000000</td>\n",
       "      <td>0.802946</td>\n",
       "      <td>-0.031054</td>\n",
       "      <td>0.126749</td>\n",
       "      <td>0.745280</td>\n",
       "      <td>0.203468</td>\n",
       "    </tr>\n",
       "    <tr>\n",
       "      <th>num_pkts_in</th>\n",
       "      <td>0.023645</td>\n",
       "      <td>0.743087</td>\n",
       "      <td>0.525090</td>\n",
       "      <td>-0.120658</td>\n",
       "      <td>0.088160</td>\n",
       "      <td>0.802946</td>\n",
       "      <td>1.000000</td>\n",
       "      <td>-0.008936</td>\n",
       "      <td>0.121025</td>\n",
       "      <td>0.770327</td>\n",
       "      <td>0.201010</td>\n",
       "    </tr>\n",
       "    <tr>\n",
       "      <th>proto</th>\n",
       "      <td>-0.011875</td>\n",
       "      <td>0.019266</td>\n",
       "      <td>-0.082191</td>\n",
       "      <td>-0.136499</td>\n",
       "      <td>0.077371</td>\n",
       "      <td>-0.031054</td>\n",
       "      <td>-0.008936</td>\n",
       "      <td>1.000000</td>\n",
       "      <td>-0.183476</td>\n",
       "      <td>-0.075573</td>\n",
       "      <td>0.014873</td>\n",
       "    </tr>\n",
       "    <tr>\n",
       "      <th>src_port</th>\n",
       "      <td>0.028225</td>\n",
       "      <td>-0.046718</td>\n",
       "      <td>0.207321</td>\n",
       "      <td>-0.702599</td>\n",
       "      <td>0.156251</td>\n",
       "      <td>0.126749</td>\n",
       "      <td>0.121025</td>\n",
       "      <td>-0.183476</td>\n",
       "      <td>1.000000</td>\n",
       "      <td>0.185695</td>\n",
       "      <td>0.021007</td>\n",
       "    </tr>\n",
       "    <tr>\n",
       "      <th>total_entropy</th>\n",
       "      <td>0.033202</td>\n",
       "      <td>0.657075</td>\n",
       "      <td>0.755990</td>\n",
       "      <td>-0.177719</td>\n",
       "      <td>0.139987</td>\n",
       "      <td>0.745280</td>\n",
       "      <td>0.770327</td>\n",
       "      <td>-0.075573</td>\n",
       "      <td>0.185695</td>\n",
       "      <td>1.000000</td>\n",
       "      <td>0.179941</td>\n",
       "    </tr>\n",
       "    <tr>\n",
       "      <th>duration</th>\n",
       "      <td>0.012682</td>\n",
       "      <td>0.169166</td>\n",
       "      <td>0.153517</td>\n",
       "      <td>-0.028684</td>\n",
       "      <td>0.000879</td>\n",
       "      <td>0.203468</td>\n",
       "      <td>0.201010</td>\n",
       "      <td>0.014873</td>\n",
       "      <td>0.021007</td>\n",
       "      <td>0.179941</td>\n",
       "      <td>1.000000</td>\n",
       "    </tr>\n",
       "  </tbody>\n",
       "</table>\n",
       "</div>"
      ],
      "text/plain": [
       "                avg_ipt  bytes_in  bytes_out  dest_port   entropy  \\\n",
       "avg_ipt        1.000000  0.016506   0.036688  -0.025773  0.047447   \n",
       "bytes_in       0.016506  1.000000   0.379605   0.054804  0.055321   \n",
       "bytes_out      0.036688  0.379605   1.000000  -0.205261 -0.061063   \n",
       "dest_port     -0.025773  0.054804  -0.205261   1.000000 -0.214244   \n",
       "entropy        0.047447  0.055321  -0.061063  -0.214244  1.000000   \n",
       "num_pkts_out   0.007565  0.670222   0.589330  -0.117542  0.049778   \n",
       "num_pkts_in    0.023645  0.743087   0.525090  -0.120658  0.088160   \n",
       "proto         -0.011875  0.019266  -0.082191  -0.136499  0.077371   \n",
       "src_port       0.028225 -0.046718   0.207321  -0.702599  0.156251   \n",
       "total_entropy  0.033202  0.657075   0.755990  -0.177719  0.139987   \n",
       "duration       0.012682  0.169166   0.153517  -0.028684  0.000879   \n",
       "\n",
       "               num_pkts_out  num_pkts_in     proto  src_port  total_entropy  \\\n",
       "avg_ipt            0.007565     0.023645 -0.011875  0.028225       0.033202   \n",
       "bytes_in           0.670222     0.743087  0.019266 -0.046718       0.657075   \n",
       "bytes_out          0.589330     0.525090 -0.082191  0.207321       0.755990   \n",
       "dest_port         -0.117542    -0.120658 -0.136499 -0.702599      -0.177719   \n",
       "entropy            0.049778     0.088160  0.077371  0.156251       0.139987   \n",
       "num_pkts_out       1.000000     0.802946 -0.031054  0.126749       0.745280   \n",
       "num_pkts_in        0.802946     1.000000 -0.008936  0.121025       0.770327   \n",
       "proto             -0.031054    -0.008936  1.000000 -0.183476      -0.075573   \n",
       "src_port           0.126749     0.121025 -0.183476  1.000000       0.185695   \n",
       "total_entropy      0.745280     0.770327 -0.075573  0.185695       1.000000   \n",
       "duration           0.203468     0.201010  0.014873  0.021007       0.179941   \n",
       "\n",
       "               duration  \n",
       "avg_ipt        0.012682  \n",
       "bytes_in       0.169166  \n",
       "bytes_out      0.153517  \n",
       "dest_port     -0.028684  \n",
       "entropy        0.000879  \n",
       "num_pkts_out   0.203468  \n",
       "num_pkts_in    0.201010  \n",
       "proto          0.014873  \n",
       "src_port       0.021007  \n",
       "total_entropy  0.179941  \n",
       "duration       1.000000  "
      ]
     },
     "execution_count": 22,
     "metadata": {},
     "output_type": "execute_result"
    }
   ],
   "source": [
    "df.corr()"
   ]
  },
  {
   "cell_type": "code",
   "execution_count": 23,
   "id": "47cea312",
   "metadata": {},
   "outputs": [
    {
     "data": {
      "text/plain": [
       "<AxesSubplot:>"
      ]
     },
     "execution_count": 23,
     "metadata": {},
     "output_type": "execute_result"
    },
    {
     "data": {
      "image/png": "[encoded data removed]",
      "text/plain": [
       "<Figure size 640x480 with 2 Axes>"
      ]
     },
     "metadata": {},
     "output_type": "display_data"
    }
   ],
   "source": [
    "sns.heatmap(df.corr(),\n",
    "            xticklabels=df.columns,\n",
    "            yticklabels=df.columns\n",
    "           )"
   ]
  },
  {
   "cell_type": "code",
   "execution_count": 24,
   "id": "dd1e2279",
   "metadata": {},
   "outputs": [],
   "source": [
    "x=df[['avg_ipt', 'bytes_in','bytes_out','dest_port','entropy','num_pkts_out','num_pkts_in','proto','src_port','total_entropy','duration']]\n",
    "\n",
    "y=df['label']"
   ]
  },
  {
   "cell_type": "code",
   "execution_count": 25,
   "id": "51625fd0",
   "metadata": {},
   "outputs": [
    {
     "name": "stderr",
     "output_type": "stream",
     "text": [
      "C:\\Users\\procns\\anaconda3\\lib\\site-packages\\sklearn\\neighbors\\_classification.py:228: FutureWarning: Unlike other reduction functions (e.g. `skew`, `kurtosis`), the default behavior of `mode` typically preserves the axis it acts along. In SciPy 1.11.0, this behavior will change: the default value of `keepdims` will become False, the `axis` over which the statistic is taken will be eliminated, and the value None will no longer be accepted. Set `keepdims` to True or False to avoid this warning.\n",
      "  mode, _ = stats.mode(_y[neigh_ind, k], axis=1)\n"
     ]
    },
    {
     "name": "stdout",
     "output_type": "stream",
     "text": [
      "Accuracy= 0.9444002342307173\n"
     ]
    },
    {
     "name": "stderr",
     "output_type": "stream",
     "text": [
      "C:\\Users\\procns\\anaconda3\\lib\\site-packages\\sklearn\\neighbors\\_classification.py:228: FutureWarning: Unlike other reduction functions (e.g. `skew`, `kurtosis`), the default behavior of `mode` typically preserves the axis it acts along. In SciPy 1.11.0, this behavior will change: the default value of `keepdims` will become False, the `axis` over which the statistic is taken will be eliminated, and the value None will no longer be accepted. Set `keepdims` to True or False to avoid this warning.\n",
      "  mode, _ = stats.mode(_y[neigh_ind, k], axis=1)\n"
     ]
    },
    {
     "name": "stdout",
     "output_type": "stream",
     "text": [
      "Accuracy= 0.9452710920256453\n"
     ]
    },
    {
     "name": "stderr",
     "output_type": "stream",
     "text": [
      "C:\\Users\\procns\\anaconda3\\lib\\site-packages\\sklearn\\neighbors\\_classification.py:228: FutureWarning: Unlike other reduction functions (e.g. `skew`, `kurtosis`), the default behavior of `mode` typically preserves the axis it acts along. In SciPy 1.11.0, this behavior will change: the default value of `keepdims` will become False, the `axis` over which the statistic is taken will be eliminated, and the value None will no longer be accepted. Set `keepdims` to True or False to avoid this warning.\n",
      "  mode, _ = stats.mode(_y[neigh_ind, k], axis=1)\n"
     ]
    },
    {
     "name": "stdout",
     "output_type": "stream",
     "text": [
      "Accuracy= 0.9449257518655876\n"
     ]
    },
    {
     "name": "stderr",
     "output_type": "stream",
     "text": [
      "C:\\Users\\procns\\anaconda3\\lib\\site-packages\\sklearn\\neighbors\\_classification.py:228: FutureWarning: Unlike other reduction functions (e.g. `skew`, `kurtosis`), the default behavior of `mode` typically preserves the axis it acts along. In SciPy 1.11.0, this behavior will change: the default value of `keepdims` will become False, the `axis` over which the statistic is taken will be eliminated, and the value None will no longer be accepted. Set `keepdims` to True or False to avoid this warning.\n",
      "  mode, _ = stats.mode(_y[neigh_ind, k], axis=1)\n"
     ]
    },
    {
     "name": "stdout",
     "output_type": "stream",
     "text": [
      "Accuracy= 0.9456764913439738\n"
     ]
    },
    {
     "name": "stderr",
     "output_type": "stream",
     "text": [
      "C:\\Users\\procns\\anaconda3\\lib\\site-packages\\sklearn\\neighbors\\_classification.py:228: FutureWarning: Unlike other reduction functions (e.g. `skew`, `kurtosis`), the default behavior of `mode` typically preserves the axis it acts along. In SciPy 1.11.0, this behavior will change: the default value of `keepdims` will become False, the `axis` over which the statistic is taken will be eliminated, and the value None will no longer be accepted. Set `keepdims` to True or False to avoid this warning.\n",
      "  mode, _ = stats.mode(_y[neigh_ind, k], axis=1)\n"
     ]
    },
    {
     "name": "stdout",
     "output_type": "stream",
     "text": [
      "Accuracy= 0.9452560772360775\n"
     ]
    },
    {
     "name": "stderr",
     "output_type": "stream",
     "text": [
      "C:\\Users\\procns\\anaconda3\\lib\\site-packages\\sklearn\\neighbors\\_classification.py:228: FutureWarning: Unlike other reduction functions (e.g. `skew`, `kurtosis`), the default behavior of `mode` typically preserves the axis it acts along. In SciPy 1.11.0, this behavior will change: the default value of `keepdims` will become False, the `axis` over which the statistic is taken will be eliminated, and the value None will no longer be accepted. Set `keepdims` to True or False to avoid this warning.\n",
      "  mode, _ = stats.mode(_y[neigh_ind, k], axis=1)\n"
     ]
    },
    {
     "name": "stdout",
     "output_type": "stream",
     "text": [
      "Accuracy= 0.9454062251317548\n"
     ]
    },
    {
     "name": "stderr",
     "output_type": "stream",
     "text": [
      "C:\\Users\\procns\\anaconda3\\lib\\site-packages\\sklearn\\neighbors\\_classification.py:228: FutureWarning: Unlike other reduction functions (e.g. `skew`, `kurtosis`), the default behavior of `mode` typically preserves the axis it acts along. In SciPy 1.11.0, this behavior will change: the default value of `keepdims` will become False, the `axis` over which the statistic is taken will be eliminated, and the value None will no longer be accepted. Set `keepdims` to True or False to avoid this warning.\n",
      "  mode, _ = stats.mode(_y[neigh_ind, k], axis=1)\n"
     ]
    },
    {
     "name": "stdout",
     "output_type": "stream",
     "text": [
      "Accuracy= 0.9450909145508326\n"
     ]
    },
    {
     "name": "stderr",
     "output_type": "stream",
     "text": [
      "C:\\Users\\procns\\anaconda3\\lib\\site-packages\\sklearn\\neighbors\\_classification.py:228: FutureWarning: Unlike other reduction functions (e.g. `skew`, `kurtosis`), the default behavior of `mode` typically preserves the axis it acts along. In SciPy 1.11.0, this behavior will change: the default value of `keepdims` will become False, the `axis` over which the statistic is taken will be eliminated, and the value None will no longer be accepted. Set `keepdims` to True or False to avoid this warning.\n",
      "  mode, _ = stats.mode(_y[neigh_ind, k], axis=1)\n"
     ]
    },
    {
     "name": "stdout",
     "output_type": "stream",
     "text": [
      "Accuracy= 0.9456014173961352\n"
     ]
    },
    {
     "name": "stderr",
     "output_type": "stream",
     "text": [
      "C:\\Users\\procns\\anaconda3\\lib\\site-packages\\sklearn\\neighbors\\_classification.py:228: FutureWarning: Unlike other reduction functions (e.g. `skew`, `kurtosis`), the default behavior of `mode` typically preserves the axis it acts along. In SciPy 1.11.0, this behavior will change: the default value of `keepdims` will become False, the `axis` over which the statistic is taken will be eliminated, and the value None will no longer be accepted. Set `keepdims` to True or False to avoid this warning.\n",
      "  mode, _ = stats.mode(_y[neigh_ind, k], axis=1)\n"
     ]
    },
    {
     "name": "stdout",
     "output_type": "stream",
     "text": [
      "Accuracy= 0.9453611807630516\n"
     ]
    }
   ],
   "source": [
    "from sklearn.model_selection import train_test_split\n",
    "from sklearn.neighbors import KNeighborsClassifier\n",
    "from sklearn.metrics import accuracy_score\n",
    "n_neighbors=30\n",
    "scores=[]\n",
    "x_train,x_test,y_train,y_test=train_test_split(x,y,test_size=0.2,random_state=30)\n",
    "for k in range(1,10):\n",
    "    knn=KNeighborsClassifier(n_neighbors-k)\n",
    "    knn.fit(x_train,y_train)\n",
    "    y_pred=knn.predict(x_test)\n",
    "    print('Accuracy=',accuracy_score(y_pred,y_test))"
   ]
  },
  {
   "cell_type": "code",
   "execution_count": 26,
   "id": "60503a06",
   "metadata": {},
   "outputs": [],
   "source": [
    "df_metrics=df.loc[:, df.columns != 'label']"
   ]
  },
  {
   "cell_type": "code",
   "execution_count": 27,
   "id": "dc40e232",
   "metadata": {},
   "outputs": [],
   "source": [
    "from sklearn.preprocessing import MinMaxScaler\n",
    "\n",
    "values = df_metrics.values\n",
    "\n",
    "scaler = MinMaxScaler(feature_range=(0, 1))\n",
    "\n",
    "scaledData = scaler.fit_transform(values)"
   ]
  },
  {
   "cell_type": "code",
   "execution_count": 28,
   "id": "2b786631",
   "metadata": {},
   "outputs": [],
   "source": [
    "from pandas import DataFrame\n",
    "\n",
    "df_scaled= DataFrame(scaledData)"
   ]
  },
  {
   "cell_type": "code",
   "execution_count": 29,
   "id": "ea5236ad",
   "metadata": {},
   "outputs": [
    {
     "data": {
      "text/html": [
       "<div>\n",
       "<style scoped>\n",
       "    .dataframe tbody tr th:only-of-type {\n",
       "        vertical-align: middle;\n",
       "    }\n",
       "\n",
       "    .dataframe tbody tr th {\n",
       "        vertical-align: top;\n",
       "    }\n",
       "\n",
       "    .dataframe thead th {\n",
       "        text-align: right;\n",
       "    }\n",
       "</style>\n",
       "<table border=\"1\" class=\"dataframe\">\n",
       "  <thead>\n",
       "    <tr style=\"text-align: right;\">\n",
       "      <th></th>\n",
       "      <th>0</th>\n",
       "      <th>1</th>\n",
       "      <th>2</th>\n",
       "      <th>3</th>\n",
       "      <th>4</th>\n",
       "      <th>5</th>\n",
       "      <th>6</th>\n",
       "      <th>7</th>\n",
       "      <th>8</th>\n",
       "      <th>9</th>\n",
       "      <th>10</th>\n",
       "    </tr>\n",
       "  </thead>\n",
       "  <tbody>\n",
       "    <tr>\n",
       "      <th>0</th>\n",
       "      <td>4.511094e-08</td>\n",
       "      <td>0.004166</td>\n",
       "      <td>0.002915</td>\n",
       "      <td>0.006775</td>\n",
       "      <td>0.087490</td>\n",
       "      <td>0.023529</td>\n",
       "      <td>0.023529</td>\n",
       "      <td>0.0</td>\n",
       "      <td>0.923916</td>\n",
       "      <td>0.001398</td>\n",
       "      <td>1.176800e-04</td>\n",
       "    </tr>\n",
       "    <tr>\n",
       "      <th>1</th>\n",
       "      <td>1.164153e-09</td>\n",
       "      <td>0.000741</td>\n",
       "      <td>0.000732</td>\n",
       "      <td>0.001862</td>\n",
       "      <td>0.095077</td>\n",
       "      <td>0.003922</td>\n",
       "      <td>0.003922</td>\n",
       "      <td>1.0</td>\n",
       "      <td>0.001862</td>\n",
       "      <td>0.000316</td>\n",
       "      <td>9.844768e-07</td>\n",
       "    </tr>\n",
       "    <tr>\n",
       "      <th>2</th>\n",
       "      <td>2.171146e-08</td>\n",
       "      <td>0.022265</td>\n",
       "      <td>0.017945</td>\n",
       "      <td>0.000320</td>\n",
       "      <td>0.129390</td>\n",
       "      <td>0.047059</td>\n",
       "      <td>0.054902</td>\n",
       "      <td>0.0</td>\n",
       "      <td>0.457800</td>\n",
       "      <td>0.011747</td>\n",
       "      <td>1.101718e-04</td>\n",
       "    </tr>\n",
       "    <tr>\n",
       "      <th>3</th>\n",
       "      <td>7.855706e-08</td>\n",
       "      <td>0.015985</td>\n",
       "      <td>0.224726</td>\n",
       "      <td>0.140370</td>\n",
       "      <td>0.046041</td>\n",
       "      <td>0.058824</td>\n",
       "      <td>0.023529</td>\n",
       "      <td>0.0</td>\n",
       "      <td>0.601178</td>\n",
       "      <td>0.025159</td>\n",
       "      <td>4.830605e-04</td>\n",
       "    </tr>\n",
       "    <tr>\n",
       "      <th>4</th>\n",
       "      <td>8.101909e-08</td>\n",
       "      <td>0.148712</td>\n",
       "      <td>0.472251</td>\n",
       "      <td>0.140370</td>\n",
       "      <td>0.051433</td>\n",
       "      <td>0.611765</td>\n",
       "      <td>0.337255</td>\n",
       "      <td>0.0</td>\n",
       "      <td>0.600751</td>\n",
       "      <td>0.072365</td>\n",
       "      <td>2.590873e-03</td>\n",
       "    </tr>\n",
       "    <tr>\n",
       "      <th>...</th>\n",
       "      <td>...</td>\n",
       "      <td>...</td>\n",
       "      <td>...</td>\n",
       "      <td>...</td>\n",
       "      <td>...</td>\n",
       "      <td>...</td>\n",
       "      <td>...</td>\n",
       "      <td>...</td>\n",
       "      <td>...</td>\n",
       "      <td>...</td>\n",
       "      <td>...</td>\n",
       "    </tr>\n",
       "    <tr>\n",
       "      <th>332997</th>\n",
       "      <td>1.280569e-09</td>\n",
       "      <td>0.000741</td>\n",
       "      <td>0.000732</td>\n",
       "      <td>0.001862</td>\n",
       "      <td>0.089764</td>\n",
       "      <td>0.003922</td>\n",
       "      <td>0.003922</td>\n",
       "      <td>1.0</td>\n",
       "      <td>0.001862</td>\n",
       "      <td>0.000299</td>\n",
       "      <td>1.120007e-06</td>\n",
       "    </tr>\n",
       "    <tr>\n",
       "      <th>332998</th>\n",
       "      <td>0.000000e+00</td>\n",
       "      <td>0.000000</td>\n",
       "      <td>0.000000</td>\n",
       "      <td>0.078936</td>\n",
       "      <td>0.000000</td>\n",
       "      <td>0.011765</td>\n",
       "      <td>0.003922</td>\n",
       "      <td>0.0</td>\n",
       "      <td>0.654251</td>\n",
       "      <td>0.000000</td>\n",
       "      <td>2.314217e-06</td>\n",
       "    </tr>\n",
       "    <tr>\n",
       "      <th>332999</th>\n",
       "      <td>0.000000e+00</td>\n",
       "      <td>0.000000</td>\n",
       "      <td>0.000000</td>\n",
       "      <td>0.204306</td>\n",
       "      <td>0.000000</td>\n",
       "      <td>0.011765</td>\n",
       "      <td>0.003922</td>\n",
       "      <td>0.0</td>\n",
       "      <td>0.704759</td>\n",
       "      <td>0.000000</td>\n",
       "      <td>4.748131e-06</td>\n",
       "    </tr>\n",
       "    <tr>\n",
       "      <th>333000</th>\n",
       "      <td>1.280569e-09</td>\n",
       "      <td>0.000741</td>\n",
       "      <td>0.000732</td>\n",
       "      <td>0.001862</td>\n",
       "      <td>0.088620</td>\n",
       "      <td>0.003922</td>\n",
       "      <td>0.003922</td>\n",
       "      <td>1.0</td>\n",
       "      <td>0.001862</td>\n",
       "      <td>0.000295</td>\n",
       "      <td>1.124871e-06</td>\n",
       "    </tr>\n",
       "    <tr>\n",
       "      <th>333001</th>\n",
       "      <td>2.689015e-07</td>\n",
       "      <td>0.031245</td>\n",
       "      <td>0.373995</td>\n",
       "      <td>0.140370</td>\n",
       "      <td>0.036229</td>\n",
       "      <td>0.101961</td>\n",
       "      <td>0.039216</td>\n",
       "      <td>0.0</td>\n",
       "      <td>0.510262</td>\n",
       "      <td>0.033325</td>\n",
       "      <td>2.864547e-03</td>\n",
       "    </tr>\n",
       "  </tbody>\n",
       "</table>\n",
       "<p>333002 rows × 11 columns</p>\n",
       "</div>"
      ],
      "text/plain": [
       "                  0         1         2         3         4         5   \\\n",
       "0       4.511094e-08  0.004166  0.002915  0.006775  0.087490  0.023529   \n",
       "1       1.164153e-09  0.000741  0.000732  0.001862  0.095077  0.003922   \n",
       "2       2.171146e-08  0.022265  0.017945  0.000320  0.129390  0.047059   \n",
       "3       7.855706e-08  0.015985  0.224726  0.140370  0.046041  0.058824   \n",
       "4       8.101909e-08  0.148712  0.472251  0.140370  0.051433  0.611765   \n",
       "...              ...       ...       ...       ...       ...       ...   \n",
       "332997  1.280569e-09  0.000741  0.000732  0.001862  0.089764  0.003922   \n",
       "332998  0.000000e+00  0.000000  0.000000  0.078936  0.000000  0.011765   \n",
       "332999  0.000000e+00  0.000000  0.000000  0.204306  0.000000  0.011765   \n",
       "333000  1.280569e-09  0.000741  0.000732  0.001862  0.088620  0.003922   \n",
       "333001  2.689015e-07  0.031245  0.373995  0.140370  0.036229  0.101961   \n",
       "\n",
       "              6    7         8         9             10  \n",
       "0       0.023529  0.0  0.923916  0.001398  1.176800e-04  \n",
       "1       0.003922  1.0  0.001862  0.000316  9.844768e-07  \n",
       "2       0.054902  0.0  0.457800  0.011747  1.101718e-04  \n",
       "3       0.023529  0.0  0.601178  0.025159  4.830605e-04  \n",
       "4       0.337255  0.0  0.600751  0.072365  2.590873e-03  \n",
       "...          ...  ...       ...       ...           ...  \n",
       "332997  0.003922  1.0  0.001862  0.000299  1.120007e-06  \n",
       "332998  0.003922  0.0  0.654251  0.000000  2.314217e-06  \n",
       "332999  0.003922  0.0  0.704759  0.000000  4.748131e-06  \n",
       "333000  0.003922  1.0  0.001862  0.000295  1.124871e-06  \n",
       "333001  0.039216  0.0  0.510262  0.033325  2.864547e-03  \n",
       "\n",
       "[333002 rows x 11 columns]"
      ]
     },
     "execution_count": 29,
     "metadata": {},
     "output_type": "execute_result"
    }
   ],
   "source": [
    "df_scaled"
   ]
  },
  {
   "cell_type": "code",
   "execution_count": 30,
   "id": "0da92b38",
   "metadata": {},
   "outputs": [],
   "source": [
    "x_scaled=df_scaled\n",
    "y=df['label']"
   ]
  },
  {
   "cell_type": "code",
   "execution_count": null,
   "id": "48d9ae9b",
   "metadata": {},
   "outputs": [
    {
     "name": "stderr",
     "output_type": "stream",
     "text": [
      "C:\\Users\\procns\\anaconda3\\lib\\site-packages\\sklearn\\neighbors\\_classification.py:228: FutureWarning: Unlike other reduction functions (e.g. `skew`, `kurtosis`), the default behavior of `mode` typically preserves the axis it acts along. In SciPy 1.11.0, this behavior will change: the default value of `keepdims` will become False, the `axis` over which the statistic is taken will be eliminated, and the value None will no longer be accepted. Set `keepdims` to True or False to avoid this warning.\n",
      "  mode, _ = stats.mode(_y[neigh_ind, k], axis=1)\n"
     ]
    },
    {
     "name": "stdout",
     "output_type": "stream",
     "text": [
      "Accuracy= 0.9467125118241467\n"
     ]
    },
    {
     "name": "stderr",
     "output_type": "stream",
     "text": [
      "C:\\Users\\procns\\anaconda3\\lib\\site-packages\\sklearn\\neighbors\\_classification.py:228: FutureWarning: Unlike other reduction functions (e.g. `skew`, `kurtosis`), the default behavior of `mode` typically preserves the axis it acts along. In SciPy 1.11.0, this behavior will change: the default value of `keepdims` will become False, the `axis` over which the statistic is taken will be eliminated, and the value None will no longer be accepted. Set `keepdims` to True or False to avoid this warning.\n",
      "  mode, _ = stats.mode(_y[neigh_ind, k], axis=1)\n"
     ]
    },
    {
     "name": "stdout",
     "output_type": "stream",
     "text": [
      "Accuracy= 0.9470578519842044\n"
     ]
    },
    {
     "name": "stderr",
     "output_type": "stream",
     "text": [
      "C:\\Users\\procns\\anaconda3\\lib\\site-packages\\sklearn\\neighbors\\_classification.py:228: FutureWarning: Unlike other reduction functions (e.g. `skew`, `kurtosis`), the default behavior of `mode` typically preserves the axis it acts along. In SciPy 1.11.0, this behavior will change: the default value of `keepdims` will become False, the `axis` over which the statistic is taken will be eliminated, and the value None will no longer be accepted. Set `keepdims` to True or False to avoid this warning.\n",
      "  mode, _ = stats.mode(_y[neigh_ind, k], axis=1)\n"
     ]
    },
    {
     "name": "stdout",
     "output_type": "stream",
     "text": [
      "Accuracy= 0.9469977928259335\n"
     ]
    }
   ],
   "source": [
    "from sklearn.model_selection import train_test_split\n",
    "from sklearn.neighbors import KNeighborsClassifier\n",
    "from sklearn.metrics import accuracy_score\n",
    "n_neighbors=30\n",
    "scores=[]\n",
    "x_train,x_test,y_train,y_test=train_test_split(x_scaled,y,test_size=0.2,random_state=30)\n",
    "for k in range(1,10):\n",
    "    knn=KNeighborsClassifier(n_neighbors-k)\n",
    "    knn.fit(x_train,y_train)\n",
    "    y_pred=knn.predict(x_test)\n",
    "    print('Accuracy=',accuracy_score(y_pred,y_test))"
   ]
  },
  {
   "cell_type": "code",
   "execution_count": null,
   "id": "87914ed3",
   "metadata": {},
   "outputs": [],
   "source": []
  }
 ],
 "metadata": {
  "kernelspec": {
   "display_name": "Python 3 (ipykernel)",
   "language": "python",
   "name": "python3"
  },
  "language_info": {
   "codemirror_mode": {
    "name": "ipython",
    "version": 3
   },
   "file_extension": ".py",
   "mimetype": "text/x-python",
   "name": "python",
   "nbconvert_exporter": "python",
   "pygments_lexer": "ipython3",
   "version": "3.9.13"
  }
 },
 "nbformat": 4,
 "nbformat_minor": 5
}
